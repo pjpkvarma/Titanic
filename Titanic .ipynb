{
 "cells": [
  {
   "cell_type": "markdown",
   "metadata": {},
   "source": [
    "# Titanic : Machine Learning from Disaster"
   ]
  },
  {
   "cell_type": "markdown",
   "metadata": {},
   "source": [
    "** this is kaggle problem for practise"
   ]
  },
  {
   "cell_type": "markdown",
   "metadata": {},
   "source": [
    "* The competition is simple: use machine learning to create a model that predicts which passengers survived the Titanic shipwreck."
   ]
  },
  {
   "cell_type": "markdown",
   "metadata": {},
   "source": [
    "## DATA"
   ]
  },
  {
   "cell_type": "markdown",
   "metadata": {},
   "source": [
    "The data has been split into two groups:\n",
    "\n",
    "training set (train.csv)\n",
    "test set (test.csv)\n",
    "The training set should be used to build your machine learning models. For the training set, we provide the outcome (also known as the “ground truth”) for each passenger. Your model will be based on “features” like passengers’ gender and class. You can also use feature engineering to create new features.\n",
    "\n",
    "The test set should be used to see how well your model performs on unseen data. For the test set, we do not provide the ground truth for each passenger. It is your job to predict these outcomes. For each passenger in the test set, use the model you trained to predict whether or not they survived the sinking of the Titanic."
   ]
  },
  {
   "cell_type": "code",
   "execution_count": 2,
   "metadata": {},
   "outputs": [],
   "source": [
    "#importing libraries\n",
    "import numpy as np\n",
    "import pandas as pd\n",
    "import matplotlib.pyplot as plt\n",
    "%matplotlib inline\n",
    "import seaborn as sns"
   ]
  },
  {
   "cell_type": "code",
   "execution_count": 3,
   "metadata": {},
   "outputs": [],
   "source": [
    "#import data\n",
    "train_data = pd.read_csv(\"train.csv\")\n",
    "test_data = pd.read_csv(\"test.csv\")"
   ]
  },
  {
   "cell_type": "markdown",
   "metadata": {},
   "source": [
    "let's visualize our data"
   ]
  },
  {
   "cell_type": "code",
   "execution_count": 4,
   "metadata": {},
   "outputs": [
    {
     "data": {
      "text/plain": [
       "(891, 12)"
      ]
     },
     "execution_count": 4,
     "metadata": {},
     "output_type": "execute_result"
    }
   ],
   "source": [
    "train_data.shape"
   ]
  },
  {
   "cell_type": "code",
   "execution_count": 5,
   "metadata": {},
   "outputs": [
    {
     "data": {
      "text/plain": [
       "(418, 11)"
      ]
     },
     "execution_count": 5,
     "metadata": {},
     "output_type": "execute_result"
    }
   ],
   "source": [
    "test_data.shape"
   ]
  },
  {
   "cell_type": "markdown",
   "metadata": {},
   "source": [
    "* we are missing a column in test data. That is our dependent variable"
   ]
  },
  {
   "cell_type": "code",
   "execution_count": 6,
   "metadata": {},
   "outputs": [
    {
     "data": {
      "text/html": [
       "<div>\n",
       "<style scoped>\n",
       "    .dataframe tbody tr th:only-of-type {\n",
       "        vertical-align: middle;\n",
       "    }\n",
       "\n",
       "    .dataframe tbody tr th {\n",
       "        vertical-align: top;\n",
       "    }\n",
       "\n",
       "    .dataframe thead th {\n",
       "        text-align: right;\n",
       "    }\n",
       "</style>\n",
       "<table border=\"1\" class=\"dataframe\">\n",
       "  <thead>\n",
       "    <tr style=\"text-align: right;\">\n",
       "      <th></th>\n",
       "      <th>PassengerId</th>\n",
       "      <th>Survived</th>\n",
       "      <th>Pclass</th>\n",
       "      <th>Name</th>\n",
       "      <th>Sex</th>\n",
       "      <th>Age</th>\n",
       "      <th>SibSp</th>\n",
       "      <th>Parch</th>\n",
       "      <th>Ticket</th>\n",
       "      <th>Fare</th>\n",
       "      <th>Cabin</th>\n",
       "      <th>Embarked</th>\n",
       "    </tr>\n",
       "  </thead>\n",
       "  <tbody>\n",
       "    <tr>\n",
       "      <th>0</th>\n",
       "      <td>1</td>\n",
       "      <td>0</td>\n",
       "      <td>3</td>\n",
       "      <td>Braund, Mr. Owen Harris</td>\n",
       "      <td>male</td>\n",
       "      <td>22.0</td>\n",
       "      <td>1</td>\n",
       "      <td>0</td>\n",
       "      <td>A/5 21171</td>\n",
       "      <td>7.2500</td>\n",
       "      <td>NaN</td>\n",
       "      <td>S</td>\n",
       "    </tr>\n",
       "    <tr>\n",
       "      <th>1</th>\n",
       "      <td>2</td>\n",
       "      <td>1</td>\n",
       "      <td>1</td>\n",
       "      <td>Cumings, Mrs. John Bradley (Florence Briggs Th...</td>\n",
       "      <td>female</td>\n",
       "      <td>38.0</td>\n",
       "      <td>1</td>\n",
       "      <td>0</td>\n",
       "      <td>PC 17599</td>\n",
       "      <td>71.2833</td>\n",
       "      <td>C85</td>\n",
       "      <td>C</td>\n",
       "    </tr>\n",
       "    <tr>\n",
       "      <th>2</th>\n",
       "      <td>3</td>\n",
       "      <td>1</td>\n",
       "      <td>3</td>\n",
       "      <td>Heikkinen, Miss. Laina</td>\n",
       "      <td>female</td>\n",
       "      <td>26.0</td>\n",
       "      <td>0</td>\n",
       "      <td>0</td>\n",
       "      <td>STON/O2. 3101282</td>\n",
       "      <td>7.9250</td>\n",
       "      <td>NaN</td>\n",
       "      <td>S</td>\n",
       "    </tr>\n",
       "    <tr>\n",
       "      <th>3</th>\n",
       "      <td>4</td>\n",
       "      <td>1</td>\n",
       "      <td>1</td>\n",
       "      <td>Futrelle, Mrs. Jacques Heath (Lily May Peel)</td>\n",
       "      <td>female</td>\n",
       "      <td>35.0</td>\n",
       "      <td>1</td>\n",
       "      <td>0</td>\n",
       "      <td>113803</td>\n",
       "      <td>53.1000</td>\n",
       "      <td>C123</td>\n",
       "      <td>S</td>\n",
       "    </tr>\n",
       "    <tr>\n",
       "      <th>4</th>\n",
       "      <td>5</td>\n",
       "      <td>0</td>\n",
       "      <td>3</td>\n",
       "      <td>Allen, Mr. William Henry</td>\n",
       "      <td>male</td>\n",
       "      <td>35.0</td>\n",
       "      <td>0</td>\n",
       "      <td>0</td>\n",
       "      <td>373450</td>\n",
       "      <td>8.0500</td>\n",
       "      <td>NaN</td>\n",
       "      <td>S</td>\n",
       "    </tr>\n",
       "  </tbody>\n",
       "</table>\n",
       "</div>"
      ],
      "text/plain": [
       "   PassengerId  Survived  Pclass  \\\n",
       "0            1         0       3   \n",
       "1            2         1       1   \n",
       "2            3         1       3   \n",
       "3            4         1       1   \n",
       "4            5         0       3   \n",
       "\n",
       "                                                Name     Sex   Age  SibSp  \\\n",
       "0                            Braund, Mr. Owen Harris    male  22.0      1   \n",
       "1  Cumings, Mrs. John Bradley (Florence Briggs Th...  female  38.0      1   \n",
       "2                             Heikkinen, Miss. Laina  female  26.0      0   \n",
       "3       Futrelle, Mrs. Jacques Heath (Lily May Peel)  female  35.0      1   \n",
       "4                           Allen, Mr. William Henry    male  35.0      0   \n",
       "\n",
       "   Parch            Ticket     Fare Cabin Embarked  \n",
       "0      0         A/5 21171   7.2500   NaN        S  \n",
       "1      0          PC 17599  71.2833   C85        C  \n",
       "2      0  STON/O2. 3101282   7.9250   NaN        S  \n",
       "3      0            113803  53.1000  C123        S  \n",
       "4      0            373450   8.0500   NaN        S  "
      ]
     },
     "execution_count": 6,
     "metadata": {},
     "output_type": "execute_result"
    }
   ],
   "source": [
    "train_data.head()"
   ]
  },
  {
   "cell_type": "code",
   "execution_count": 7,
   "metadata": {},
   "outputs": [
    {
     "data": {
      "text/html": [
       "<div>\n",
       "<style scoped>\n",
       "    .dataframe tbody tr th:only-of-type {\n",
       "        vertical-align: middle;\n",
       "    }\n",
       "\n",
       "    .dataframe tbody tr th {\n",
       "        vertical-align: top;\n",
       "    }\n",
       "\n",
       "    .dataframe thead th {\n",
       "        text-align: right;\n",
       "    }\n",
       "</style>\n",
       "<table border=\"1\" class=\"dataframe\">\n",
       "  <thead>\n",
       "    <tr style=\"text-align: right;\">\n",
       "      <th></th>\n",
       "      <th>PassengerId</th>\n",
       "      <th>Pclass</th>\n",
       "      <th>Name</th>\n",
       "      <th>Sex</th>\n",
       "      <th>Age</th>\n",
       "      <th>SibSp</th>\n",
       "      <th>Parch</th>\n",
       "      <th>Ticket</th>\n",
       "      <th>Fare</th>\n",
       "      <th>Cabin</th>\n",
       "      <th>Embarked</th>\n",
       "    </tr>\n",
       "  </thead>\n",
       "  <tbody>\n",
       "    <tr>\n",
       "      <th>0</th>\n",
       "      <td>892</td>\n",
       "      <td>3</td>\n",
       "      <td>Kelly, Mr. James</td>\n",
       "      <td>male</td>\n",
       "      <td>34.5</td>\n",
       "      <td>0</td>\n",
       "      <td>0</td>\n",
       "      <td>330911</td>\n",
       "      <td>7.8292</td>\n",
       "      <td>NaN</td>\n",
       "      <td>Q</td>\n",
       "    </tr>\n",
       "    <tr>\n",
       "      <th>1</th>\n",
       "      <td>893</td>\n",
       "      <td>3</td>\n",
       "      <td>Wilkes, Mrs. James (Ellen Needs)</td>\n",
       "      <td>female</td>\n",
       "      <td>47.0</td>\n",
       "      <td>1</td>\n",
       "      <td>0</td>\n",
       "      <td>363272</td>\n",
       "      <td>7.0000</td>\n",
       "      <td>NaN</td>\n",
       "      <td>S</td>\n",
       "    </tr>\n",
       "    <tr>\n",
       "      <th>2</th>\n",
       "      <td>894</td>\n",
       "      <td>2</td>\n",
       "      <td>Myles, Mr. Thomas Francis</td>\n",
       "      <td>male</td>\n",
       "      <td>62.0</td>\n",
       "      <td>0</td>\n",
       "      <td>0</td>\n",
       "      <td>240276</td>\n",
       "      <td>9.6875</td>\n",
       "      <td>NaN</td>\n",
       "      <td>Q</td>\n",
       "    </tr>\n",
       "    <tr>\n",
       "      <th>3</th>\n",
       "      <td>895</td>\n",
       "      <td>3</td>\n",
       "      <td>Wirz, Mr. Albert</td>\n",
       "      <td>male</td>\n",
       "      <td>27.0</td>\n",
       "      <td>0</td>\n",
       "      <td>0</td>\n",
       "      <td>315154</td>\n",
       "      <td>8.6625</td>\n",
       "      <td>NaN</td>\n",
       "      <td>S</td>\n",
       "    </tr>\n",
       "    <tr>\n",
       "      <th>4</th>\n",
       "      <td>896</td>\n",
       "      <td>3</td>\n",
       "      <td>Hirvonen, Mrs. Alexander (Helga E Lindqvist)</td>\n",
       "      <td>female</td>\n",
       "      <td>22.0</td>\n",
       "      <td>1</td>\n",
       "      <td>1</td>\n",
       "      <td>3101298</td>\n",
       "      <td>12.2875</td>\n",
       "      <td>NaN</td>\n",
       "      <td>S</td>\n",
       "    </tr>\n",
       "  </tbody>\n",
       "</table>\n",
       "</div>"
      ],
      "text/plain": [
       "   PassengerId  Pclass                                          Name     Sex  \\\n",
       "0          892       3                              Kelly, Mr. James    male   \n",
       "1          893       3              Wilkes, Mrs. James (Ellen Needs)  female   \n",
       "2          894       2                     Myles, Mr. Thomas Francis    male   \n",
       "3          895       3                              Wirz, Mr. Albert    male   \n",
       "4          896       3  Hirvonen, Mrs. Alexander (Helga E Lindqvist)  female   \n",
       "\n",
       "    Age  SibSp  Parch   Ticket     Fare Cabin Embarked  \n",
       "0  34.5      0      0   330911   7.8292   NaN        Q  \n",
       "1  47.0      1      0   363272   7.0000   NaN        S  \n",
       "2  62.0      0      0   240276   9.6875   NaN        Q  \n",
       "3  27.0      0      0   315154   8.6625   NaN        S  \n",
       "4  22.0      1      1  3101298  12.2875   NaN        S  "
      ]
     },
     "execution_count": 7,
     "metadata": {},
     "output_type": "execute_result"
    }
   ],
   "source": [
    "test_data.head()"
   ]
  },
  {
   "cell_type": "markdown",
   "metadata": {},
   "source": [
    "'Survived' column is our dependent variable and we have to prdeict."
   ]
  },
  {
   "cell_type": "code",
   "execution_count": 8,
   "metadata": {},
   "outputs": [
    {
     "data": {
      "text/html": [
       "<div>\n",
       "<style scoped>\n",
       "    .dataframe tbody tr th:only-of-type {\n",
       "        vertical-align: middle;\n",
       "    }\n",
       "\n",
       "    .dataframe tbody tr th {\n",
       "        vertical-align: top;\n",
       "    }\n",
       "\n",
       "    .dataframe thead th {\n",
       "        text-align: right;\n",
       "    }\n",
       "</style>\n",
       "<table border=\"1\" class=\"dataframe\">\n",
       "  <thead>\n",
       "    <tr style=\"text-align: right;\">\n",
       "      <th></th>\n",
       "      <th>PassengerId</th>\n",
       "      <th>Survived</th>\n",
       "      <th>Pclass</th>\n",
       "      <th>Age</th>\n",
       "      <th>SibSp</th>\n",
       "      <th>Parch</th>\n",
       "      <th>Fare</th>\n",
       "    </tr>\n",
       "  </thead>\n",
       "  <tbody>\n",
       "    <tr>\n",
       "      <th>count</th>\n",
       "      <td>891.000000</td>\n",
       "      <td>891.000000</td>\n",
       "      <td>891.000000</td>\n",
       "      <td>714.000000</td>\n",
       "      <td>891.000000</td>\n",
       "      <td>891.000000</td>\n",
       "      <td>891.000000</td>\n",
       "    </tr>\n",
       "    <tr>\n",
       "      <th>mean</th>\n",
       "      <td>446.000000</td>\n",
       "      <td>0.383838</td>\n",
       "      <td>2.308642</td>\n",
       "      <td>29.699118</td>\n",
       "      <td>0.523008</td>\n",
       "      <td>0.381594</td>\n",
       "      <td>32.204208</td>\n",
       "    </tr>\n",
       "    <tr>\n",
       "      <th>std</th>\n",
       "      <td>257.353842</td>\n",
       "      <td>0.486592</td>\n",
       "      <td>0.836071</td>\n",
       "      <td>14.526497</td>\n",
       "      <td>1.102743</td>\n",
       "      <td>0.806057</td>\n",
       "      <td>49.693429</td>\n",
       "    </tr>\n",
       "    <tr>\n",
       "      <th>min</th>\n",
       "      <td>1.000000</td>\n",
       "      <td>0.000000</td>\n",
       "      <td>1.000000</td>\n",
       "      <td>0.420000</td>\n",
       "      <td>0.000000</td>\n",
       "      <td>0.000000</td>\n",
       "      <td>0.000000</td>\n",
       "    </tr>\n",
       "    <tr>\n",
       "      <th>25%</th>\n",
       "      <td>223.500000</td>\n",
       "      <td>0.000000</td>\n",
       "      <td>2.000000</td>\n",
       "      <td>20.125000</td>\n",
       "      <td>0.000000</td>\n",
       "      <td>0.000000</td>\n",
       "      <td>7.910400</td>\n",
       "    </tr>\n",
       "    <tr>\n",
       "      <th>50%</th>\n",
       "      <td>446.000000</td>\n",
       "      <td>0.000000</td>\n",
       "      <td>3.000000</td>\n",
       "      <td>28.000000</td>\n",
       "      <td>0.000000</td>\n",
       "      <td>0.000000</td>\n",
       "      <td>14.454200</td>\n",
       "    </tr>\n",
       "    <tr>\n",
       "      <th>75%</th>\n",
       "      <td>668.500000</td>\n",
       "      <td>1.000000</td>\n",
       "      <td>3.000000</td>\n",
       "      <td>38.000000</td>\n",
       "      <td>1.000000</td>\n",
       "      <td>0.000000</td>\n",
       "      <td>31.000000</td>\n",
       "    </tr>\n",
       "    <tr>\n",
       "      <th>max</th>\n",
       "      <td>891.000000</td>\n",
       "      <td>1.000000</td>\n",
       "      <td>3.000000</td>\n",
       "      <td>80.000000</td>\n",
       "      <td>8.000000</td>\n",
       "      <td>6.000000</td>\n",
       "      <td>512.329200</td>\n",
       "    </tr>\n",
       "  </tbody>\n",
       "</table>\n",
       "</div>"
      ],
      "text/plain": [
       "       PassengerId    Survived      Pclass         Age       SibSp  \\\n",
       "count   891.000000  891.000000  891.000000  714.000000  891.000000   \n",
       "mean    446.000000    0.383838    2.308642   29.699118    0.523008   \n",
       "std     257.353842    0.486592    0.836071   14.526497    1.102743   \n",
       "min       1.000000    0.000000    1.000000    0.420000    0.000000   \n",
       "25%     223.500000    0.000000    2.000000   20.125000    0.000000   \n",
       "50%     446.000000    0.000000    3.000000   28.000000    0.000000   \n",
       "75%     668.500000    1.000000    3.000000   38.000000    1.000000   \n",
       "max     891.000000    1.000000    3.000000   80.000000    8.000000   \n",
       "\n",
       "            Parch        Fare  \n",
       "count  891.000000  891.000000  \n",
       "mean     0.381594   32.204208  \n",
       "std      0.806057   49.693429  \n",
       "min      0.000000    0.000000  \n",
       "25%      0.000000    7.910400  \n",
       "50%      0.000000   14.454200  \n",
       "75%      0.000000   31.000000  \n",
       "max      6.000000  512.329200  "
      ]
     },
     "execution_count": 8,
     "metadata": {},
     "output_type": "execute_result"
    }
   ],
   "source": [
    "train_data.describe()"
   ]
  },
  {
   "cell_type": "markdown",
   "metadata": {},
   "source": [
    "we can see some missing values in age"
   ]
  },
  {
   "cell_type": "code",
   "execution_count": 9,
   "metadata": {},
   "outputs": [
    {
     "data": {
      "text/plain": [
       "PassengerId      0\n",
       "Survived         0\n",
       "Pclass           0\n",
       "Name             0\n",
       "Sex              0\n",
       "Age            177\n",
       "SibSp            0\n",
       "Parch            0\n",
       "Ticket           0\n",
       "Fare             0\n",
       "Cabin          687\n",
       "Embarked         2\n",
       "dtype: int64"
      ]
     },
     "execution_count": 9,
     "metadata": {},
     "output_type": "execute_result"
    }
   ],
   "source": [
    "train_data.isna().sum()"
   ]
  },
  {
   "cell_type": "markdown",
   "metadata": {},
   "source": [
    "we have missing values in Age, Cabin and Embarked"
   ]
  },
  {
   "cell_type": "code",
   "execution_count": 10,
   "metadata": {},
   "outputs": [
    {
     "data": {
      "text/plain": [
       "0      22.0\n",
       "1      38.0\n",
       "2      26.0\n",
       "3      35.0\n",
       "4      35.0\n",
       "       ... \n",
       "886    27.0\n",
       "887    19.0\n",
       "888     NaN\n",
       "889    26.0\n",
       "890    32.0\n",
       "Name: Age, Length: 891, dtype: float64"
      ]
     },
     "execution_count": 10,
     "metadata": {},
     "output_type": "execute_result"
    }
   ],
   "source": [
    "train_data[\"Age\"]"
   ]
  },
  {
   "cell_type": "code",
   "execution_count": 11,
   "metadata": {},
   "outputs": [
    {
     "data": {
      "text/plain": [
       "<matplotlib.axes._subplots.AxesSubplot at 0x18c3913d2c8>"
      ]
     },
     "execution_count": 11,
     "metadata": {},
     "output_type": "execute_result"
    },
    {
     "data": {
      "image/png": "[encoded data removed]",
      "text/plain": [
       "<Figure size 432x288 with 1 Axes>"
      ]
     },
     "metadata": {
      "needs_background": "light"
     },
     "output_type": "display_data"
    }
   ],
   "source": [
    "train_data.boxplot('Age')"
   ]
  },
  {
   "cell_type": "markdown",
   "metadata": {},
   "source": [
    "we have some outliers in Age column"
   ]
  },
  {
   "cell_type": "code",
   "execution_count": 12,
   "metadata": {},
   "outputs": [
    {
     "data": {
      "text/plain": [
       "<matplotlib.axes._subplots.AxesSubplot at 0x18c39484e48>"
      ]
     },
     "execution_count": 12,
     "metadata": {},
     "output_type": "execute_result"
    },
    {
     "data": {
      "image/png": "[encoded data removed]",
      "text/plain": [
       "<Figure size 432x288 with 1 Axes>"
      ]
     },
     "metadata": {
      "needs_background": "light"
     },
     "output_type": "display_data"
    }
   ],
   "source": [
    "train_data[\"Age\"].plot(kind=\"bar\")"
   ]
  },
  {
   "cell_type": "code",
   "execution_count": 13,
   "metadata": {},
   "outputs": [
    {
     "data": {
      "text/plain": [
       "29.69911764705882"
      ]
     },
     "execution_count": 13,
     "metadata": {},
     "output_type": "execute_result"
    }
   ],
   "source": [
    "train_data[\"Age\"].mean()"
   ]
  },
  {
   "cell_type": "code",
   "execution_count": 14,
   "metadata": {},
   "outputs": [
    {
     "data": {
      "text/plain": [
       "28.0"
      ]
     },
     "execution_count": 14,
     "metadata": {},
     "output_type": "execute_result"
    }
   ],
   "source": [
    "train_data[\"Age\"].median()"
   ]
  },
  {
   "cell_type": "code",
   "execution_count": 15,
   "metadata": {},
   "outputs": [
    {
     "data": {
      "text/plain": [
       "0    24.0\n",
       "dtype: float64"
      ]
     },
     "execution_count": 15,
     "metadata": {},
     "output_type": "execute_result"
    }
   ],
   "source": [
    "train_data[\"Age\"].mode()"
   ]
  },
  {
   "cell_type": "markdown",
   "metadata": {},
   "source": [
    "there is no much difference between mean, median and mode"
   ]
  },
  {
   "cell_type": "code",
   "execution_count": 16,
   "metadata": {},
   "outputs": [
    {
     "data": {
      "text/plain": [
       "<matplotlib.axes._subplots.AxesSubplot at 0x18c39d86808>"
      ]
     },
     "execution_count": 16,
     "metadata": {},
     "output_type": "execute_result"
    },
    {
     "data": {
      "image/png": "[encoded data removed]",
      "text/plain": [
       "<Figure size 432x288 with 1 Axes>"
      ]
     },
     "metadata": {
      "needs_background": "light"
     },
     "output_type": "display_data"
    }
   ],
   "source": [
    "sns.distplot(train_data[\"Age\"])"
   ]
  },
  {
   "cell_type": "code",
   "execution_count": 17,
   "metadata": {},
   "outputs": [],
   "source": [
    "train_data[\"Age\"].fillna(train_data[\"Age\"].median(), inplace=True)"
   ]
  },
  {
   "cell_type": "code",
   "execution_count": 18,
   "metadata": {},
   "outputs": [
    {
     "data": {
      "text/plain": [
       "0"
      ]
     },
     "execution_count": 18,
     "metadata": {},
     "output_type": "execute_result"
    }
   ],
   "source": [
    "train_data[\"Age\"].isnull().sum()"
   ]
  },
  {
   "cell_type": "code",
   "execution_count": 19,
   "metadata": {},
   "outputs": [
    {
     "data": {
      "text/plain": [
       "PassengerId      0\n",
       "Survived         0\n",
       "Pclass           0\n",
       "Name             0\n",
       "Sex              0\n",
       "Age              0\n",
       "SibSp            0\n",
       "Parch            0\n",
       "Ticket           0\n",
       "Fare             0\n",
       "Cabin          687\n",
       "Embarked         2\n",
       "dtype: int64"
      ]
     },
     "execution_count": 19,
     "metadata": {},
     "output_type": "execute_result"
    }
   ],
   "source": [
    "train_data.isna().sum()"
   ]
  },
  {
   "cell_type": "code",
   "execution_count": 20,
   "metadata": {},
   "outputs": [
    {
     "data": {
      "text/plain": [
       "0       NaN\n",
       "1       C85\n",
       "2       NaN\n",
       "3      C123\n",
       "4       NaN\n",
       "       ... \n",
       "886     NaN\n",
       "887     B42\n",
       "888     NaN\n",
       "889    C148\n",
       "890     NaN\n",
       "Name: Cabin, Length: 891, dtype: object"
      ]
     },
     "execution_count": 20,
     "metadata": {},
     "output_type": "execute_result"
    }
   ],
   "source": [
    "train_data[\"Cabin\"]"
   ]
  },
  {
   "cell_type": "raw",
   "metadata": {},
   "source": []
  },
  {
   "cell_type": "code",
   "execution_count": 21,
   "metadata": {},
   "outputs": [
    {
     "data": {
      "text/plain": [
       "204"
      ]
     },
     "execution_count": 21,
     "metadata": {},
     "output_type": "execute_result"
    }
   ],
   "source": [
    "891-687"
   ]
  },
  {
   "cell_type": "markdown",
   "metadata": {},
   "source": [
    "we have only 204 values in Cabin"
   ]
  },
  {
   "cell_type": "code",
   "execution_count": 22,
   "metadata": {},
   "outputs": [
    {
     "data": {
      "text/plain": [
       "0.22895622895622897"
      ]
     },
     "execution_count": 22,
     "metadata": {},
     "output_type": "execute_result"
    }
   ],
   "source": [
    "204/891"
   ]
  },
  {
   "cell_type": "markdown",
   "metadata": {},
   "source": [
    "just 23%"
   ]
  },
  {
   "cell_type": "code",
   "execution_count": 23,
   "metadata": {},
   "outputs": [
    {
     "data": {
      "text/plain": [
       "dtype('O')"
      ]
     },
     "execution_count": 23,
     "metadata": {},
     "output_type": "execute_result"
    }
   ],
   "source": [
    "train_data[\"Cabin\"].dtype"
   ]
  },
  {
   "cell_type": "code",
   "execution_count": 24,
   "metadata": {},
   "outputs": [
    {
     "data": {
      "text/plain": [
       "C23 C25 C27    4\n",
       "G6             4\n",
       "B96 B98        4\n",
       "F33            3\n",
       "C22 C26        3\n",
       "              ..\n",
       "C46            1\n",
       "B71            1\n",
       "E58            1\n",
       "E34            1\n",
       "B30            1\n",
       "Name: Cabin, Length: 147, dtype: int64"
      ]
     },
     "execution_count": 24,
     "metadata": {},
     "output_type": "execute_result"
    }
   ],
   "source": [
    "train_data[\"Cabin\"].value_counts()"
   ]
  },
  {
   "cell_type": "code",
   "execution_count": 25,
   "metadata": {},
   "outputs": [
    {
     "data": {
      "text/plain": [
       "<matplotlib.axes._subplots.AxesSubplot at 0x18c3a96f3c8>"
      ]
     },
     "execution_count": 25,
     "metadata": {},
     "output_type": "execute_result"
    },
    {
     "data": {
      "image/png": "[encoded data removed]",
      "text/plain": [
       "<Figure size 432x288 with 1 Axes>"
      ]
     },
     "metadata": {
      "needs_background": "light"
     },
     "output_type": "display_data"
    }
   ],
   "source": [
    "train_data[\"Embarked\"].value_counts().plot(kind=\"bar\")"
   ]
  },
  {
   "cell_type": "markdown",
   "metadata": {},
   "source": [
    "we can replace missing values with S. "
   ]
  },
  {
   "cell_type": "code",
   "execution_count": 26,
   "metadata": {},
   "outputs": [],
   "source": [
    "train_data[\"Embarked\"].fillna(\"S\", inplace=True)"
   ]
  },
  {
   "cell_type": "code",
   "execution_count": 27,
   "metadata": {},
   "outputs": [
    {
     "data": {
      "text/plain": [
       "0"
      ]
     },
     "execution_count": 27,
     "metadata": {},
     "output_type": "execute_result"
    }
   ],
   "source": [
    "train_data[\"Embarked\"].isna().sum()"
   ]
  },
  {
   "cell_type": "code",
   "execution_count": 28,
   "metadata": {},
   "outputs": [
    {
     "data": {
      "text/plain": [
       "PassengerId      0\n",
       "Survived         0\n",
       "Pclass           0\n",
       "Name             0\n",
       "Sex              0\n",
       "Age              0\n",
       "SibSp            0\n",
       "Parch            0\n",
       "Ticket           0\n",
       "Fare             0\n",
       "Cabin          687\n",
       "Embarked         0\n",
       "dtype: int64"
      ]
     },
     "execution_count": 28,
     "metadata": {},
     "output_type": "execute_result"
    }
   ],
   "source": [
    "train_data.isna().sum()"
   ]
  },
  {
   "cell_type": "code",
   "execution_count": 29,
   "metadata": {},
   "outputs": [
    {
     "data": {
      "text/plain": [
       "PassengerId      0\n",
       "Pclass           0\n",
       "Name             0\n",
       "Sex              0\n",
       "Age             86\n",
       "SibSp            0\n",
       "Parch            0\n",
       "Ticket           0\n",
       "Fare             1\n",
       "Cabin          327\n",
       "Embarked         0\n",
       "dtype: int64"
      ]
     },
     "execution_count": 29,
     "metadata": {},
     "output_type": "execute_result"
    }
   ],
   "source": [
    "test_data.isna().sum()"
   ]
  },
  {
   "cell_type": "code",
   "execution_count": 30,
   "metadata": {},
   "outputs": [],
   "source": [
    "test_data[\"Age\"].fillna(test_data[\"Age\"].median, inplace=True)"
   ]
  },
  {
   "cell_type": "code",
   "execution_count": 31,
   "metadata": {},
   "outputs": [
    {
     "data": {
      "text/plain": [
       "<matplotlib.axes._subplots.AxesSubplot at 0x18c3a9b7808>"
      ]
     },
     "execution_count": 31,
     "metadata": {},
     "output_type": "execute_result"
    },
    {
     "data": {
      "image/png": "[encoded data removed]",
      "text/plain": [
       "<Figure size 432x288 with 1 Axes>"
      ]
     },
     "metadata": {
      "needs_background": "light"
     },
     "output_type": "display_data"
    }
   ],
   "source": [
    "test_data[\"Fare\"].plot(kind=\"bar\")"
   ]
  },
  {
   "cell_type": "code",
   "execution_count": 32,
   "metadata": {},
   "outputs": [
    {
     "data": {
      "text/plain": [
       "(35.627188489208635,\n",
       " 14.4542,\n",
       " 0    7.75\n",
       " dtype: float64)"
      ]
     },
     "execution_count": 32,
     "metadata": {},
     "output_type": "execute_result"
    }
   ],
   "source": [
    "test_data[\"Fare\"].mean(), test_data[\"Fare\"].median(), test_data[\"Fare\"].mode()"
   ]
  },
  {
   "cell_type": "code",
   "execution_count": 33,
   "metadata": {},
   "outputs": [
    {
     "data": {
      "text/plain": [
       "<matplotlib.axes._subplots.AxesSubplot at 0x18c3ae24b08>"
      ]
     },
     "execution_count": 33,
     "metadata": {},
     "output_type": "execute_result"
    },
    {
     "data": {
      "image/png": "[encoded data removed]",
      "text/plain": [
       "<Figure size 432x288 with 1 Axes>"
      ]
     },
     "metadata": {
      "needs_background": "light"
     },
     "output_type": "display_data"
    }
   ],
   "source": [
    "sns.distplot(test_data[\"Fare\"])"
   ]
  },
  {
   "cell_type": "code",
   "execution_count": 34,
   "metadata": {},
   "outputs": [],
   "source": [
    "test_data[\"Fare\"].fillna(test_data[\"Fare\"].median(),inplace=True)"
   ]
  },
  {
   "cell_type": "code",
   "execution_count": 35,
   "metadata": {},
   "outputs": [],
   "source": [
    "train_data[\"Cabin\"].fillna(\"Missing\" ,inplace=True)"
   ]
  },
  {
   "cell_type": "code",
   "execution_count": 36,
   "metadata": {},
   "outputs": [],
   "source": [
    "test_data[\"Cabin\"].fillna(\"Missing\" ,inplace=True)"
   ]
  },
  {
   "cell_type": "code",
   "execution_count": 37,
   "metadata": {},
   "outputs": [
    {
     "data": {
      "text/plain": [
       "PassengerId    0\n",
       "Survived       0\n",
       "Pclass         0\n",
       "Name           0\n",
       "Sex            0\n",
       "Age            0\n",
       "SibSp          0\n",
       "Parch          0\n",
       "Ticket         0\n",
       "Fare           0\n",
       "Cabin          0\n",
       "Embarked       0\n",
       "dtype: int64"
      ]
     },
     "execution_count": 37,
     "metadata": {},
     "output_type": "execute_result"
    }
   ],
   "source": [
    "train_data.isna().sum()"
   ]
  },
  {
   "cell_type": "code",
   "execution_count": 38,
   "metadata": {},
   "outputs": [
    {
     "data": {
      "text/plain": [
       "PassengerId    0\n",
       "Pclass         0\n",
       "Name           0\n",
       "Sex            0\n",
       "Age            0\n",
       "SibSp          0\n",
       "Parch          0\n",
       "Ticket         0\n",
       "Fare           0\n",
       "Cabin          0\n",
       "Embarked       0\n",
       "dtype: int64"
      ]
     },
     "execution_count": 38,
     "metadata": {},
     "output_type": "execute_result"
    }
   ],
   "source": [
    "test_data.isna().sum()"
   ]
  },
  {
   "cell_type": "code",
   "execution_count": 39,
   "metadata": {},
   "outputs": [
    {
     "name": "stdout",
     "output_type": "stream",
     "text": [
      "<class 'pandas.core.frame.DataFrame'>\n",
      "RangeIndex: 891 entries, 0 to 890\n",
      "Data columns (total 12 columns):\n",
      " #   Column       Non-Null Count  Dtype  \n",
      "---  ------       --------------  -----  \n",
      " 0   PassengerId  891 non-null    int64  \n",
      " 1   Survived     891 non-null    int64  \n",
      " 2   Pclass       891 non-null    int64  \n",
      " 3   Name         891 non-null    object \n",
      " 4   Sex          891 non-null    object \n",
      " 5   Age          891 non-null    float64\n",
      " 6   SibSp        891 non-null    int64  \n",
      " 7   Parch        891 non-null    int64  \n",
      " 8   Ticket       891 non-null    object \n",
      " 9   Fare         891 non-null    float64\n",
      " 10  Cabin        891 non-null    object \n",
      " 11  Embarked     891 non-null    object \n",
      "dtypes: float64(2), int64(5), object(5)\n",
      "memory usage: 83.7+ KB\n"
     ]
    }
   ],
   "source": [
    "train_data.info()"
   ]
  },
  {
   "cell_type": "code",
   "execution_count": 40,
   "metadata": {},
   "outputs": [],
   "source": [
    "categorical=[]\n",
    "for i in train_data.columns:\n",
    "    if train_data[i].dtype=='O':\n",
    "        categorical.append(i)"
   ]
  },
  {
   "cell_type": "code",
   "execution_count": 41,
   "metadata": {},
   "outputs": [
    {
     "data": {
      "text/plain": [
       "['Name', 'Sex', 'Ticket', 'Cabin', 'Embarked']"
      ]
     },
     "execution_count": 41,
     "metadata": {},
     "output_type": "execute_result"
    }
   ],
   "source": [
    "categorical"
   ]
  },
  {
   "cell_type": "markdown",
   "metadata": {},
   "source": [
    "these are categorical variables, we should convert them into numerical "
   ]
  },
  {
   "cell_type": "code",
   "execution_count": 42,
   "metadata": {},
   "outputs": [],
   "source": [
    "numerical=[]\n",
    "for i in train_data.columns:\n",
    "    if train_data[i].dtype!='O':\n",
    "        numerical.append(i)"
   ]
  },
  {
   "cell_type": "code",
   "execution_count": 43,
   "metadata": {},
   "outputs": [
    {
     "data": {
      "text/plain": [
       "['PassengerId', 'Survived', 'Pclass', 'Age', 'SibSp', 'Parch', 'Fare']"
      ]
     },
     "execution_count": 43,
     "metadata": {},
     "output_type": "execute_result"
    }
   ],
   "source": [
    "numerical"
   ]
  },
  {
   "cell_type": "markdown",
   "metadata": {},
   "source": [
    "let's use pandas.api.types"
   ]
  },
  {
   "cell_type": "code",
   "execution_count": 44,
   "metadata": {},
   "outputs": [],
   "source": [
    "for label,content in train_data.items():\n",
    "    if pd.api.types.is_string_dtype(content):\n",
    "        train_data[label]=content.astype(\"category\").cat.as_ordered()\n",
    "        train_data[label]=train_data[label].cat.codes\n"
   ]
  },
  {
   "cell_type": "code",
   "execution_count": 45,
   "metadata": {},
   "outputs": [
    {
     "name": "stdout",
     "output_type": "stream",
     "text": [
      "<class 'pandas.core.frame.DataFrame'>\n",
      "RangeIndex: 891 entries, 0 to 890\n",
      "Data columns (total 12 columns):\n",
      " #   Column       Non-Null Count  Dtype  \n",
      "---  ------       --------------  -----  \n",
      " 0   PassengerId  891 non-null    int64  \n",
      " 1   Survived     891 non-null    int64  \n",
      " 2   Pclass       891 non-null    int64  \n",
      " 3   Name         891 non-null    int16  \n",
      " 4   Sex          891 non-null    int8   \n",
      " 5   Age          891 non-null    float64\n",
      " 6   SibSp        891 non-null    int64  \n",
      " 7   Parch        891 non-null    int64  \n",
      " 8   Ticket       891 non-null    int16  \n",
      " 9   Fare         891 non-null    float64\n",
      " 10  Cabin        891 non-null    int16  \n",
      " 11  Embarked     891 non-null    int8   \n",
      "dtypes: float64(2), int16(3), int64(5), int8(2)\n",
      "memory usage: 55.8 KB\n"
     ]
    }
   ],
   "source": [
    "train_data.info()"
   ]
  },
  {
   "cell_type": "code",
   "execution_count": 46,
   "metadata": {},
   "outputs": [
    {
     "data": {
      "text/html": [
       "<div>\n",
       "<style scoped>\n",
       "    .dataframe tbody tr th:only-of-type {\n",
       "        vertical-align: middle;\n",
       "    }\n",
       "\n",
       "    .dataframe tbody tr th {\n",
       "        vertical-align: top;\n",
       "    }\n",
       "\n",
       "    .dataframe thead th {\n",
       "        text-align: right;\n",
       "    }\n",
       "</style>\n",
       "<table border=\"1\" class=\"dataframe\">\n",
       "  <thead>\n",
       "    <tr style=\"text-align: right;\">\n",
       "      <th></th>\n",
       "      <th>PassengerId</th>\n",
       "      <th>Survived</th>\n",
       "      <th>Pclass</th>\n",
       "      <th>Name</th>\n",
       "      <th>Sex</th>\n",
       "      <th>Age</th>\n",
       "      <th>SibSp</th>\n",
       "      <th>Parch</th>\n",
       "      <th>Ticket</th>\n",
       "      <th>Fare</th>\n",
       "      <th>Cabin</th>\n",
       "      <th>Embarked</th>\n",
       "    </tr>\n",
       "  </thead>\n",
       "  <tbody>\n",
       "    <tr>\n",
       "      <th>0</th>\n",
       "      <td>1</td>\n",
       "      <td>0</td>\n",
       "      <td>3</td>\n",
       "      <td>108</td>\n",
       "      <td>1</td>\n",
       "      <td>22.0</td>\n",
       "      <td>1</td>\n",
       "      <td>0</td>\n",
       "      <td>523</td>\n",
       "      <td>7.2500</td>\n",
       "      <td>146</td>\n",
       "      <td>2</td>\n",
       "    </tr>\n",
       "    <tr>\n",
       "      <th>1</th>\n",
       "      <td>2</td>\n",
       "      <td>1</td>\n",
       "      <td>1</td>\n",
       "      <td>190</td>\n",
       "      <td>0</td>\n",
       "      <td>38.0</td>\n",
       "      <td>1</td>\n",
       "      <td>0</td>\n",
       "      <td>596</td>\n",
       "      <td>71.2833</td>\n",
       "      <td>81</td>\n",
       "      <td>0</td>\n",
       "    </tr>\n",
       "    <tr>\n",
       "      <th>2</th>\n",
       "      <td>3</td>\n",
       "      <td>1</td>\n",
       "      <td>3</td>\n",
       "      <td>353</td>\n",
       "      <td>0</td>\n",
       "      <td>26.0</td>\n",
       "      <td>0</td>\n",
       "      <td>0</td>\n",
       "      <td>669</td>\n",
       "      <td>7.9250</td>\n",
       "      <td>146</td>\n",
       "      <td>2</td>\n",
       "    </tr>\n",
       "    <tr>\n",
       "      <th>3</th>\n",
       "      <td>4</td>\n",
       "      <td>1</td>\n",
       "      <td>1</td>\n",
       "      <td>272</td>\n",
       "      <td>0</td>\n",
       "      <td>35.0</td>\n",
       "      <td>1</td>\n",
       "      <td>0</td>\n",
       "      <td>49</td>\n",
       "      <td>53.1000</td>\n",
       "      <td>55</td>\n",
       "      <td>2</td>\n",
       "    </tr>\n",
       "    <tr>\n",
       "      <th>4</th>\n",
       "      <td>5</td>\n",
       "      <td>0</td>\n",
       "      <td>3</td>\n",
       "      <td>15</td>\n",
       "      <td>1</td>\n",
       "      <td>35.0</td>\n",
       "      <td>0</td>\n",
       "      <td>0</td>\n",
       "      <td>472</td>\n",
       "      <td>8.0500</td>\n",
       "      <td>146</td>\n",
       "      <td>2</td>\n",
       "    </tr>\n",
       "  </tbody>\n",
       "</table>\n",
       "</div>"
      ],
      "text/plain": [
       "   PassengerId  Survived  Pclass  Name  Sex   Age  SibSp  Parch  Ticket  \\\n",
       "0            1         0       3   108    1  22.0      1      0     523   \n",
       "1            2         1       1   190    0  38.0      1      0     596   \n",
       "2            3         1       3   353    0  26.0      0      0     669   \n",
       "3            4         1       1   272    0  35.0      1      0      49   \n",
       "4            5         0       3    15    1  35.0      0      0     472   \n",
       "\n",
       "      Fare  Cabin  Embarked  \n",
       "0   7.2500    146         2  \n",
       "1  71.2833     81         0  \n",
       "2   7.9250    146         2  \n",
       "3  53.1000     55         2  \n",
       "4   8.0500    146         2  "
      ]
     },
     "execution_count": 46,
     "metadata": {},
     "output_type": "execute_result"
    }
   ],
   "source": [
    "train_data.head()"
   ]
  },
  {
   "cell_type": "code",
   "execution_count": 47,
   "metadata": {},
   "outputs": [
    {
     "name": "stdout",
     "output_type": "stream",
     "text": [
      "<class 'pandas.core.frame.DataFrame'>\n",
      "RangeIndex: 418 entries, 0 to 417\n",
      "Data columns (total 11 columns):\n",
      " #   Column       Non-Null Count  Dtype  \n",
      "---  ------       --------------  -----  \n",
      " 0   PassengerId  418 non-null    int64  \n",
      " 1   Pclass       418 non-null    int64  \n",
      " 2   Name         418 non-null    object \n",
      " 3   Sex          418 non-null    object \n",
      " 4   Age          418 non-null    object \n",
      " 5   SibSp        418 non-null    int64  \n",
      " 6   Parch        418 non-null    int64  \n",
      " 7   Ticket       418 non-null    object \n",
      " 8   Fare         418 non-null    float64\n",
      " 9   Cabin        418 non-null    object \n",
      " 10  Embarked     418 non-null    object \n",
      "dtypes: float64(1), int64(4), object(6)\n",
      "memory usage: 36.0+ KB\n"
     ]
    }
   ],
   "source": [
    "test_data.info()"
   ]
  },
  {
   "cell_type": "code",
   "execution_count": 48,
   "metadata": {},
   "outputs": [],
   "source": [
    "test_data1=pd.read_csv(\"test.csv\")"
   ]
  },
  {
   "cell_type": "code",
   "execution_count": 49,
   "metadata": {},
   "outputs": [],
   "source": [
    "test_data_new=pd.DataFrame()"
   ]
  },
  {
   "cell_type": "code",
   "execution_count": 50,
   "metadata": {},
   "outputs": [],
   "source": [
    "for label in test_data1.columns:\n",
    "    test_data_new[label]=test_data1[label]"
   ]
  },
  {
   "cell_type": "code",
   "execution_count": 51,
   "metadata": {},
   "outputs": [
    {
     "data": {
      "text/html": [
       "<div>\n",
       "<style scoped>\n",
       "    .dataframe tbody tr th:only-of-type {\n",
       "        vertical-align: middle;\n",
       "    }\n",
       "\n",
       "    .dataframe tbody tr th {\n",
       "        vertical-align: top;\n",
       "    }\n",
       "\n",
       "    .dataframe thead th {\n",
       "        text-align: right;\n",
       "    }\n",
       "</style>\n",
       "<table border=\"1\" class=\"dataframe\">\n",
       "  <thead>\n",
       "    <tr style=\"text-align: right;\">\n",
       "      <th></th>\n",
       "      <th>PassengerId</th>\n",
       "      <th>Pclass</th>\n",
       "      <th>Name</th>\n",
       "      <th>Sex</th>\n",
       "      <th>Age</th>\n",
       "      <th>SibSp</th>\n",
       "      <th>Parch</th>\n",
       "      <th>Ticket</th>\n",
       "      <th>Fare</th>\n",
       "      <th>Cabin</th>\n",
       "      <th>Embarked</th>\n",
       "    </tr>\n",
       "  </thead>\n",
       "  <tbody>\n",
       "    <tr>\n",
       "      <th>0</th>\n",
       "      <td>892</td>\n",
       "      <td>3</td>\n",
       "      <td>Kelly, Mr. James</td>\n",
       "      <td>male</td>\n",
       "      <td>34.5</td>\n",
       "      <td>0</td>\n",
       "      <td>0</td>\n",
       "      <td>330911</td>\n",
       "      <td>7.8292</td>\n",
       "      <td>NaN</td>\n",
       "      <td>Q</td>\n",
       "    </tr>\n",
       "    <tr>\n",
       "      <th>1</th>\n",
       "      <td>893</td>\n",
       "      <td>3</td>\n",
       "      <td>Wilkes, Mrs. James (Ellen Needs)</td>\n",
       "      <td>female</td>\n",
       "      <td>47.0</td>\n",
       "      <td>1</td>\n",
       "      <td>0</td>\n",
       "      <td>363272</td>\n",
       "      <td>7.0000</td>\n",
       "      <td>NaN</td>\n",
       "      <td>S</td>\n",
       "    </tr>\n",
       "    <tr>\n",
       "      <th>2</th>\n",
       "      <td>894</td>\n",
       "      <td>2</td>\n",
       "      <td>Myles, Mr. Thomas Francis</td>\n",
       "      <td>male</td>\n",
       "      <td>62.0</td>\n",
       "      <td>0</td>\n",
       "      <td>0</td>\n",
       "      <td>240276</td>\n",
       "      <td>9.6875</td>\n",
       "      <td>NaN</td>\n",
       "      <td>Q</td>\n",
       "    </tr>\n",
       "    <tr>\n",
       "      <th>3</th>\n",
       "      <td>895</td>\n",
       "      <td>3</td>\n",
       "      <td>Wirz, Mr. Albert</td>\n",
       "      <td>male</td>\n",
       "      <td>27.0</td>\n",
       "      <td>0</td>\n",
       "      <td>0</td>\n",
       "      <td>315154</td>\n",
       "      <td>8.6625</td>\n",
       "      <td>NaN</td>\n",
       "      <td>S</td>\n",
       "    </tr>\n",
       "    <tr>\n",
       "      <th>4</th>\n",
       "      <td>896</td>\n",
       "      <td>3</td>\n",
       "      <td>Hirvonen, Mrs. Alexander (Helga E Lindqvist)</td>\n",
       "      <td>female</td>\n",
       "      <td>22.0</td>\n",
       "      <td>1</td>\n",
       "      <td>1</td>\n",
       "      <td>3101298</td>\n",
       "      <td>12.2875</td>\n",
       "      <td>NaN</td>\n",
       "      <td>S</td>\n",
       "    </tr>\n",
       "  </tbody>\n",
       "</table>\n",
       "</div>"
      ],
      "text/plain": [
       "   PassengerId  Pclass                                          Name     Sex  \\\n",
       "0          892       3                              Kelly, Mr. James    male   \n",
       "1          893       3              Wilkes, Mrs. James (Ellen Needs)  female   \n",
       "2          894       2                     Myles, Mr. Thomas Francis    male   \n",
       "3          895       3                              Wirz, Mr. Albert    male   \n",
       "4          896       3  Hirvonen, Mrs. Alexander (Helga E Lindqvist)  female   \n",
       "\n",
       "    Age  SibSp  Parch   Ticket     Fare Cabin Embarked  \n",
       "0  34.5      0      0   330911   7.8292   NaN        Q  \n",
       "1  47.0      1      0   363272   7.0000   NaN        S  \n",
       "2  62.0      0      0   240276   9.6875   NaN        Q  \n",
       "3  27.0      0      0   315154   8.6625   NaN        S  \n",
       "4  22.0      1      1  3101298  12.2875   NaN        S  "
      ]
     },
     "execution_count": 51,
     "metadata": {},
     "output_type": "execute_result"
    }
   ],
   "source": [
    "test_data_new.head()"
   ]
  },
  {
   "cell_type": "code",
   "execution_count": 52,
   "metadata": {},
   "outputs": [
    {
     "data": {
      "text/html": [
       "<div>\n",
       "<style scoped>\n",
       "    .dataframe tbody tr th:only-of-type {\n",
       "        vertical-align: middle;\n",
       "    }\n",
       "\n",
       "    .dataframe tbody tr th {\n",
       "        vertical-align: top;\n",
       "    }\n",
       "\n",
       "    .dataframe thead th {\n",
       "        text-align: right;\n",
       "    }\n",
       "</style>\n",
       "<table border=\"1\" class=\"dataframe\">\n",
       "  <thead>\n",
       "    <tr style=\"text-align: right;\">\n",
       "      <th></th>\n",
       "      <th>PassengerId</th>\n",
       "      <th>Pclass</th>\n",
       "      <th>Name</th>\n",
       "      <th>Sex</th>\n",
       "      <th>Age</th>\n",
       "      <th>SibSp</th>\n",
       "      <th>Parch</th>\n",
       "      <th>Ticket</th>\n",
       "      <th>Fare</th>\n",
       "      <th>Cabin</th>\n",
       "      <th>Embarked</th>\n",
       "    </tr>\n",
       "  </thead>\n",
       "  <tbody>\n",
       "    <tr>\n",
       "      <th>0</th>\n",
       "      <td>892</td>\n",
       "      <td>3</td>\n",
       "      <td>Kelly, Mr. James</td>\n",
       "      <td>male</td>\n",
       "      <td>34.5</td>\n",
       "      <td>0</td>\n",
       "      <td>0</td>\n",
       "      <td>330911</td>\n",
       "      <td>7.8292</td>\n",
       "      <td>Missing</td>\n",
       "      <td>Q</td>\n",
       "    </tr>\n",
       "    <tr>\n",
       "      <th>1</th>\n",
       "      <td>893</td>\n",
       "      <td>3</td>\n",
       "      <td>Wilkes, Mrs. James (Ellen Needs)</td>\n",
       "      <td>female</td>\n",
       "      <td>47</td>\n",
       "      <td>1</td>\n",
       "      <td>0</td>\n",
       "      <td>363272</td>\n",
       "      <td>7.0000</td>\n",
       "      <td>Missing</td>\n",
       "      <td>S</td>\n",
       "    </tr>\n",
       "    <tr>\n",
       "      <th>2</th>\n",
       "      <td>894</td>\n",
       "      <td>2</td>\n",
       "      <td>Myles, Mr. Thomas Francis</td>\n",
       "      <td>male</td>\n",
       "      <td>62</td>\n",
       "      <td>0</td>\n",
       "      <td>0</td>\n",
       "      <td>240276</td>\n",
       "      <td>9.6875</td>\n",
       "      <td>Missing</td>\n",
       "      <td>Q</td>\n",
       "    </tr>\n",
       "    <tr>\n",
       "      <th>3</th>\n",
       "      <td>895</td>\n",
       "      <td>3</td>\n",
       "      <td>Wirz, Mr. Albert</td>\n",
       "      <td>male</td>\n",
       "      <td>27</td>\n",
       "      <td>0</td>\n",
       "      <td>0</td>\n",
       "      <td>315154</td>\n",
       "      <td>8.6625</td>\n",
       "      <td>Missing</td>\n",
       "      <td>S</td>\n",
       "    </tr>\n",
       "    <tr>\n",
       "      <th>4</th>\n",
       "      <td>896</td>\n",
       "      <td>3</td>\n",
       "      <td>Hirvonen, Mrs. Alexander (Helga E Lindqvist)</td>\n",
       "      <td>female</td>\n",
       "      <td>22</td>\n",
       "      <td>1</td>\n",
       "      <td>1</td>\n",
       "      <td>3101298</td>\n",
       "      <td>12.2875</td>\n",
       "      <td>Missing</td>\n",
       "      <td>S</td>\n",
       "    </tr>\n",
       "  </tbody>\n",
       "</table>\n",
       "</div>"
      ],
      "text/plain": [
       "   PassengerId  Pclass                                          Name     Sex  \\\n",
       "0          892       3                              Kelly, Mr. James    male   \n",
       "1          893       3              Wilkes, Mrs. James (Ellen Needs)  female   \n",
       "2          894       2                     Myles, Mr. Thomas Francis    male   \n",
       "3          895       3                              Wirz, Mr. Albert    male   \n",
       "4          896       3  Hirvonen, Mrs. Alexander (Helga E Lindqvist)  female   \n",
       "\n",
       "    Age  SibSp  Parch   Ticket     Fare    Cabin Embarked  \n",
       "0  34.5      0      0   330911   7.8292  Missing        Q  \n",
       "1    47      1      0   363272   7.0000  Missing        S  \n",
       "2    62      0      0   240276   9.6875  Missing        Q  \n",
       "3    27      0      0   315154   8.6625  Missing        S  \n",
       "4    22      1      1  3101298  12.2875  Missing        S  "
      ]
     },
     "execution_count": 52,
     "metadata": {},
     "output_type": "execute_result"
    }
   ],
   "source": [
    "test_data.head()"
   ]
  },
  {
   "cell_type": "code",
   "execution_count": 53,
   "metadata": {},
   "outputs": [
    {
     "data": {
      "text/plain": [
       "PassengerId      0\n",
       "Pclass           0\n",
       "Name             0\n",
       "Sex              0\n",
       "Age             86\n",
       "SibSp            0\n",
       "Parch            0\n",
       "Ticket           0\n",
       "Fare             1\n",
       "Cabin          327\n",
       "Embarked         0\n",
       "dtype: int64"
      ]
     },
     "execution_count": 53,
     "metadata": {},
     "output_type": "execute_result"
    }
   ],
   "source": [
    "test_data_new.isna().sum()"
   ]
  },
  {
   "cell_type": "code",
   "execution_count": 54,
   "metadata": {},
   "outputs": [],
   "source": [
    "test_data_new[\"Age\"].fillna(test_data_new[\"Age\"].median(),inplace=True)"
   ]
  },
  {
   "cell_type": "code",
   "execution_count": 55,
   "metadata": {},
   "outputs": [],
   "source": [
    "test_data_new[\"Cabin\"].fillna(\"Missing\",inplace=True)"
   ]
  },
  {
   "cell_type": "code",
   "execution_count": 56,
   "metadata": {},
   "outputs": [],
   "source": [
    "test_data_new[\"Fare\"].fillna(test_data_new[\"Fare\"].median(),inplace=True)"
   ]
  },
  {
   "cell_type": "code",
   "execution_count": 57,
   "metadata": {},
   "outputs": [
    {
     "data": {
      "text/plain": [
       "PassengerId    0\n",
       "Pclass         0\n",
       "Name           0\n",
       "Sex            0\n",
       "Age            0\n",
       "SibSp          0\n",
       "Parch          0\n",
       "Ticket         0\n",
       "Fare           0\n",
       "Cabin          0\n",
       "Embarked       0\n",
       "dtype: int64"
      ]
     },
     "execution_count": 57,
     "metadata": {},
     "output_type": "execute_result"
    }
   ],
   "source": [
    "test_data_new.isna().sum()"
   ]
  },
  {
   "cell_type": "code",
   "execution_count": 58,
   "metadata": {},
   "outputs": [],
   "source": [
    "for label,content in test_data_new.items():\n",
    "    if pd.api.types.is_string_dtype(content):\n",
    "        test_data_new[label]=content.astype('category').cat.as_ordered()\n",
    "        test_data_new[label]=test_data_new[label].cat.codes"
   ]
  },
  {
   "cell_type": "code",
   "execution_count": 59,
   "metadata": {},
   "outputs": [
    {
     "data": {
      "text/html": [
       "<div>\n",
       "<style scoped>\n",
       "    .dataframe tbody tr th:only-of-type {\n",
       "        vertical-align: middle;\n",
       "    }\n",
       "\n",
       "    .dataframe tbody tr th {\n",
       "        vertical-align: top;\n",
       "    }\n",
       "\n",
       "    .dataframe thead th {\n",
       "        text-align: right;\n",
       "    }\n",
       "</style>\n",
       "<table border=\"1\" class=\"dataframe\">\n",
       "  <thead>\n",
       "    <tr style=\"text-align: right;\">\n",
       "      <th></th>\n",
       "      <th>PassengerId</th>\n",
       "      <th>Pclass</th>\n",
       "      <th>Name</th>\n",
       "      <th>Sex</th>\n",
       "      <th>Age</th>\n",
       "      <th>SibSp</th>\n",
       "      <th>Parch</th>\n",
       "      <th>Ticket</th>\n",
       "      <th>Fare</th>\n",
       "      <th>Cabin</th>\n",
       "      <th>Embarked</th>\n",
       "    </tr>\n",
       "  </thead>\n",
       "  <tbody>\n",
       "    <tr>\n",
       "      <th>0</th>\n",
       "      <td>892</td>\n",
       "      <td>3</td>\n",
       "      <td>206</td>\n",
       "      <td>1</td>\n",
       "      <td>34.5</td>\n",
       "      <td>0</td>\n",
       "      <td>0</td>\n",
       "      <td>152</td>\n",
       "      <td>7.8292</td>\n",
       "      <td>76</td>\n",
       "      <td>1</td>\n",
       "    </tr>\n",
       "    <tr>\n",
       "      <th>1</th>\n",
       "      <td>893</td>\n",
       "      <td>3</td>\n",
       "      <td>403</td>\n",
       "      <td>0</td>\n",
       "      <td>47.0</td>\n",
       "      <td>1</td>\n",
       "      <td>0</td>\n",
       "      <td>221</td>\n",
       "      <td>7.0000</td>\n",
       "      <td>76</td>\n",
       "      <td>2</td>\n",
       "    </tr>\n",
       "    <tr>\n",
       "      <th>2</th>\n",
       "      <td>894</td>\n",
       "      <td>2</td>\n",
       "      <td>269</td>\n",
       "      <td>1</td>\n",
       "      <td>62.0</td>\n",
       "      <td>0</td>\n",
       "      <td>0</td>\n",
       "      <td>73</td>\n",
       "      <td>9.6875</td>\n",
       "      <td>76</td>\n",
       "      <td>1</td>\n",
       "    </tr>\n",
       "    <tr>\n",
       "      <th>3</th>\n",
       "      <td>895</td>\n",
       "      <td>3</td>\n",
       "      <td>408</td>\n",
       "      <td>1</td>\n",
       "      <td>27.0</td>\n",
       "      <td>0</td>\n",
       "      <td>0</td>\n",
       "      <td>147</td>\n",
       "      <td>8.6625</td>\n",
       "      <td>76</td>\n",
       "      <td>2</td>\n",
       "    </tr>\n",
       "    <tr>\n",
       "      <th>4</th>\n",
       "      <td>896</td>\n",
       "      <td>3</td>\n",
       "      <td>178</td>\n",
       "      <td>0</td>\n",
       "      <td>22.0</td>\n",
       "      <td>1</td>\n",
       "      <td>1</td>\n",
       "      <td>138</td>\n",
       "      <td>12.2875</td>\n",
       "      <td>76</td>\n",
       "      <td>2</td>\n",
       "    </tr>\n",
       "  </tbody>\n",
       "</table>\n",
       "</div>"
      ],
      "text/plain": [
       "   PassengerId  Pclass  Name  Sex   Age  SibSp  Parch  Ticket     Fare  Cabin  \\\n",
       "0          892       3   206    1  34.5      0      0     152   7.8292     76   \n",
       "1          893       3   403    0  47.0      1      0     221   7.0000     76   \n",
       "2          894       2   269    1  62.0      0      0      73   9.6875     76   \n",
       "3          895       3   408    1  27.0      0      0     147   8.6625     76   \n",
       "4          896       3   178    0  22.0      1      1     138  12.2875     76   \n",
       "\n",
       "   Embarked  \n",
       "0         1  \n",
       "1         2  \n",
       "2         1  \n",
       "3         2  \n",
       "4         2  "
      ]
     },
     "execution_count": 59,
     "metadata": {},
     "output_type": "execute_result"
    }
   ],
   "source": [
    "test_data_new.head()"
   ]
  },
  {
   "cell_type": "code",
   "execution_count": 60,
   "metadata": {},
   "outputs": [
    {
     "data": {
      "text/html": [
       "<div>\n",
       "<style scoped>\n",
       "    .dataframe tbody tr th:only-of-type {\n",
       "        vertical-align: middle;\n",
       "    }\n",
       "\n",
       "    .dataframe tbody tr th {\n",
       "        vertical-align: top;\n",
       "    }\n",
       "\n",
       "    .dataframe thead th {\n",
       "        text-align: right;\n",
       "    }\n",
       "</style>\n",
       "<table border=\"1\" class=\"dataframe\">\n",
       "  <thead>\n",
       "    <tr style=\"text-align: right;\">\n",
       "      <th></th>\n",
       "      <th>Pclass</th>\n",
       "      <th>Sex</th>\n",
       "      <th>Age</th>\n",
       "      <th>SibSp</th>\n",
       "      <th>Parch</th>\n",
       "      <th>Ticket</th>\n",
       "      <th>Fare</th>\n",
       "      <th>Cabin</th>\n",
       "      <th>Embarked</th>\n",
       "    </tr>\n",
       "  </thead>\n",
       "  <tbody>\n",
       "    <tr>\n",
       "      <th>0</th>\n",
       "      <td>3</td>\n",
       "      <td>1</td>\n",
       "      <td>22.0</td>\n",
       "      <td>1</td>\n",
       "      <td>0</td>\n",
       "      <td>523</td>\n",
       "      <td>7.2500</td>\n",
       "      <td>146</td>\n",
       "      <td>2</td>\n",
       "    </tr>\n",
       "    <tr>\n",
       "      <th>1</th>\n",
       "      <td>1</td>\n",
       "      <td>0</td>\n",
       "      <td>38.0</td>\n",
       "      <td>1</td>\n",
       "      <td>0</td>\n",
       "      <td>596</td>\n",
       "      <td>71.2833</td>\n",
       "      <td>81</td>\n",
       "      <td>0</td>\n",
       "    </tr>\n",
       "    <tr>\n",
       "      <th>2</th>\n",
       "      <td>3</td>\n",
       "      <td>0</td>\n",
       "      <td>26.0</td>\n",
       "      <td>0</td>\n",
       "      <td>0</td>\n",
       "      <td>669</td>\n",
       "      <td>7.9250</td>\n",
       "      <td>146</td>\n",
       "      <td>2</td>\n",
       "    </tr>\n",
       "    <tr>\n",
       "      <th>3</th>\n",
       "      <td>1</td>\n",
       "      <td>0</td>\n",
       "      <td>35.0</td>\n",
       "      <td>1</td>\n",
       "      <td>0</td>\n",
       "      <td>49</td>\n",
       "      <td>53.1000</td>\n",
       "      <td>55</td>\n",
       "      <td>2</td>\n",
       "    </tr>\n",
       "    <tr>\n",
       "      <th>4</th>\n",
       "      <td>3</td>\n",
       "      <td>1</td>\n",
       "      <td>35.0</td>\n",
       "      <td>0</td>\n",
       "      <td>0</td>\n",
       "      <td>472</td>\n",
       "      <td>8.0500</td>\n",
       "      <td>146</td>\n",
       "      <td>2</td>\n",
       "    </tr>\n",
       "  </tbody>\n",
       "</table>\n",
       "</div>"
      ],
      "text/plain": [
       "   Pclass  Sex   Age  SibSp  Parch  Ticket     Fare  Cabin  Embarked\n",
       "0       3    1  22.0      1      0     523   7.2500    146         2\n",
       "1       1    0  38.0      1      0     596  71.2833     81         0\n",
       "2       3    0  26.0      0      0     669   7.9250    146         2\n",
       "3       1    0  35.0      1      0      49  53.1000     55         2\n",
       "4       3    1  35.0      0      0     472   8.0500    146         2"
      ]
     },
     "execution_count": 60,
     "metadata": {},
     "output_type": "execute_result"
    }
   ],
   "source": [
    "X_train = train_data.drop(['Survived','Name','PassengerId'], axis=1)\n",
    "X_train.head()"
   ]
  },
  {
   "cell_type": "code",
   "execution_count": 61,
   "metadata": {},
   "outputs": [
    {
     "data": {
      "text/html": [
       "<div>\n",
       "<style scoped>\n",
       "    .dataframe tbody tr th:only-of-type {\n",
       "        vertical-align: middle;\n",
       "    }\n",
       "\n",
       "    .dataframe tbody tr th {\n",
       "        vertical-align: top;\n",
       "    }\n",
       "\n",
       "    .dataframe thead th {\n",
       "        text-align: right;\n",
       "    }\n",
       "</style>\n",
       "<table border=\"1\" class=\"dataframe\">\n",
       "  <thead>\n",
       "    <tr style=\"text-align: right;\">\n",
       "      <th></th>\n",
       "      <th>Pclass</th>\n",
       "      <th>Sex</th>\n",
       "      <th>Age</th>\n",
       "      <th>SibSp</th>\n",
       "      <th>Parch</th>\n",
       "      <th>Ticket</th>\n",
       "      <th>Fare</th>\n",
       "      <th>Cabin</th>\n",
       "      <th>Embarked</th>\n",
       "    </tr>\n",
       "  </thead>\n",
       "  <tbody>\n",
       "    <tr>\n",
       "      <th>0</th>\n",
       "      <td>3</td>\n",
       "      <td>1</td>\n",
       "      <td>34.5</td>\n",
       "      <td>0</td>\n",
       "      <td>0</td>\n",
       "      <td>152</td>\n",
       "      <td>7.8292</td>\n",
       "      <td>76</td>\n",
       "      <td>1</td>\n",
       "    </tr>\n",
       "    <tr>\n",
       "      <th>1</th>\n",
       "      <td>3</td>\n",
       "      <td>0</td>\n",
       "      <td>47.0</td>\n",
       "      <td>1</td>\n",
       "      <td>0</td>\n",
       "      <td>221</td>\n",
       "      <td>7.0000</td>\n",
       "      <td>76</td>\n",
       "      <td>2</td>\n",
       "    </tr>\n",
       "    <tr>\n",
       "      <th>2</th>\n",
       "      <td>2</td>\n",
       "      <td>1</td>\n",
       "      <td>62.0</td>\n",
       "      <td>0</td>\n",
       "      <td>0</td>\n",
       "      <td>73</td>\n",
       "      <td>9.6875</td>\n",
       "      <td>76</td>\n",
       "      <td>1</td>\n",
       "    </tr>\n",
       "    <tr>\n",
       "      <th>3</th>\n",
       "      <td>3</td>\n",
       "      <td>1</td>\n",
       "      <td>27.0</td>\n",
       "      <td>0</td>\n",
       "      <td>0</td>\n",
       "      <td>147</td>\n",
       "      <td>8.6625</td>\n",
       "      <td>76</td>\n",
       "      <td>2</td>\n",
       "    </tr>\n",
       "    <tr>\n",
       "      <th>4</th>\n",
       "      <td>3</td>\n",
       "      <td>0</td>\n",
       "      <td>22.0</td>\n",
       "      <td>1</td>\n",
       "      <td>1</td>\n",
       "      <td>138</td>\n",
       "      <td>12.2875</td>\n",
       "      <td>76</td>\n",
       "      <td>2</td>\n",
       "    </tr>\n",
       "  </tbody>\n",
       "</table>\n",
       "</div>"
      ],
      "text/plain": [
       "   Pclass  Sex   Age  SibSp  Parch  Ticket     Fare  Cabin  Embarked\n",
       "0       3    1  34.5      0      0     152   7.8292     76         1\n",
       "1       3    0  47.0      1      0     221   7.0000     76         2\n",
       "2       2    1  62.0      0      0      73   9.6875     76         1\n",
       "3       3    1  27.0      0      0     147   8.6625     76         2\n",
       "4       3    0  22.0      1      1     138  12.2875     76         2"
      ]
     },
     "execution_count": 61,
     "metadata": {},
     "output_type": "execute_result"
    }
   ],
   "source": [
    "X_test = test_data_new.drop(['Name','PassengerId'], axis=1)\n",
    "X_test.head()"
   ]
  },
  {
   "cell_type": "code",
   "execution_count": null,
   "metadata": {},
   "outputs": [],
   "source": []
  },
  {
   "cell_type": "code",
   "execution_count": 62,
   "metadata": {},
   "outputs": [
    {
     "data": {
      "text/plain": [
       "0      0\n",
       "1      1\n",
       "2      1\n",
       "3      1\n",
       "4      0\n",
       "      ..\n",
       "886    0\n",
       "887    1\n",
       "888    0\n",
       "889    1\n",
       "890    0\n",
       "Name: Survived, Length: 891, dtype: int64"
      ]
     },
     "execution_count": 62,
     "metadata": {},
     "output_type": "execute_result"
    }
   ],
   "source": [
    "y_train = train_data[\"Survived\"]\n",
    "y_train"
   ]
  },
  {
   "cell_type": "code",
   "execution_count": 63,
   "metadata": {},
   "outputs": [],
   "source": [
    "from sklearn.ensemble import RandomForestClassifier"
   ]
  },
  {
   "cell_type": "code",
   "execution_count": 64,
   "metadata": {},
   "outputs": [],
   "source": [
    "rf = RandomForestClassifier()"
   ]
  },
  {
   "cell_type": "code",
   "execution_count": 65,
   "metadata": {},
   "outputs": [
    {
     "data": {
      "text/plain": [
       "RandomForestClassifier(bootstrap=True, ccp_alpha=0.0, class_weight=None,\n",
       "                       criterion='gini', max_depth=None, max_features='auto',\n",
       "                       max_leaf_nodes=None, max_samples=None,\n",
       "                       min_impurity_decrease=0.0, min_impurity_split=None,\n",
       "                       min_samples_leaf=1, min_samples_split=2,\n",
       "                       min_weight_fraction_leaf=0.0, n_estimators=100,\n",
       "                       n_jobs=None, oob_score=False, random_state=None,\n",
       "                       verbose=0, warm_start=False)"
      ]
     },
     "execution_count": 65,
     "metadata": {},
     "output_type": "execute_result"
    }
   ],
   "source": [
    "rf.fit(X_train, train_data[\"Survived\"])"
   ]
  },
  {
   "cell_type": "code",
   "execution_count": 66,
   "metadata": {},
   "outputs": [
    {
     "data": {
      "text/plain": [
       "0.9977553310886644"
      ]
     },
     "execution_count": 66,
     "metadata": {},
     "output_type": "execute_result"
    }
   ],
   "source": [
    "rf.score(X_train, y_train)"
   ]
  },
  {
   "cell_type": "markdown",
   "metadata": {},
   "source": [
    "### OMG! MODEL IS OVERFITTING..."
   ]
  },
  {
   "cell_type": "code",
   "execution_count": 67,
   "metadata": {},
   "outputs": [
    {
     "name": "stdout",
     "output_type": "stream",
     "text": [
      "<class 'pandas.core.frame.DataFrame'>\n",
      "RangeIndex: 418 entries, 0 to 417\n",
      "Data columns (total 11 columns):\n",
      " #   Column       Non-Null Count  Dtype  \n",
      "---  ------       --------------  -----  \n",
      " 0   PassengerId  418 non-null    int64  \n",
      " 1   Pclass       418 non-null    int64  \n",
      " 2   Name         418 non-null    int16  \n",
      " 3   Sex          418 non-null    int8   \n",
      " 4   Age          418 non-null    float64\n",
      " 5   SibSp        418 non-null    int64  \n",
      " 6   Parch        418 non-null    int64  \n",
      " 7   Ticket       418 non-null    int16  \n",
      " 8   Fare         418 non-null    float64\n",
      " 9   Cabin        418 non-null    int8   \n",
      " 10  Embarked     418 non-null    int8   \n",
      "dtypes: float64(2), int16(2), int64(4), int8(3)\n",
      "memory usage: 22.6 KB\n"
     ]
    }
   ],
   "source": [
    "test_data_new.info()"
   ]
  },
  {
   "cell_type": "code",
   "execution_count": 68,
   "metadata": {
    "scrolled": true
   },
   "outputs": [
    {
     "data": {
      "text/html": [
       "<div>\n",
       "<style scoped>\n",
       "    .dataframe tbody tr th:only-of-type {\n",
       "        vertical-align: middle;\n",
       "    }\n",
       "\n",
       "    .dataframe tbody tr th {\n",
       "        vertical-align: top;\n",
       "    }\n",
       "\n",
       "    .dataframe thead th {\n",
       "        text-align: right;\n",
       "    }\n",
       "</style>\n",
       "<table border=\"1\" class=\"dataframe\">\n",
       "  <thead>\n",
       "    <tr style=\"text-align: right;\">\n",
       "      <th></th>\n",
       "      <th>PassengerId</th>\n",
       "      <th>Pclass</th>\n",
       "      <th>Name</th>\n",
       "      <th>Sex</th>\n",
       "      <th>Age</th>\n",
       "      <th>SibSp</th>\n",
       "      <th>Parch</th>\n",
       "      <th>Ticket</th>\n",
       "      <th>Fare</th>\n",
       "      <th>Cabin</th>\n",
       "      <th>Embarked</th>\n",
       "    </tr>\n",
       "  </thead>\n",
       "  <tbody>\n",
       "    <tr>\n",
       "      <th>0</th>\n",
       "      <td>892</td>\n",
       "      <td>3</td>\n",
       "      <td>206</td>\n",
       "      <td>1</td>\n",
       "      <td>34.5</td>\n",
       "      <td>0</td>\n",
       "      <td>0</td>\n",
       "      <td>152</td>\n",
       "      <td>7.8292</td>\n",
       "      <td>76</td>\n",
       "      <td>1</td>\n",
       "    </tr>\n",
       "    <tr>\n",
       "      <th>1</th>\n",
       "      <td>893</td>\n",
       "      <td>3</td>\n",
       "      <td>403</td>\n",
       "      <td>0</td>\n",
       "      <td>47.0</td>\n",
       "      <td>1</td>\n",
       "      <td>0</td>\n",
       "      <td>221</td>\n",
       "      <td>7.0000</td>\n",
       "      <td>76</td>\n",
       "      <td>2</td>\n",
       "    </tr>\n",
       "    <tr>\n",
       "      <th>2</th>\n",
       "      <td>894</td>\n",
       "      <td>2</td>\n",
       "      <td>269</td>\n",
       "      <td>1</td>\n",
       "      <td>62.0</td>\n",
       "      <td>0</td>\n",
       "      <td>0</td>\n",
       "      <td>73</td>\n",
       "      <td>9.6875</td>\n",
       "      <td>76</td>\n",
       "      <td>1</td>\n",
       "    </tr>\n",
       "    <tr>\n",
       "      <th>3</th>\n",
       "      <td>895</td>\n",
       "      <td>3</td>\n",
       "      <td>408</td>\n",
       "      <td>1</td>\n",
       "      <td>27.0</td>\n",
       "      <td>0</td>\n",
       "      <td>0</td>\n",
       "      <td>147</td>\n",
       "      <td>8.6625</td>\n",
       "      <td>76</td>\n",
       "      <td>2</td>\n",
       "    </tr>\n",
       "    <tr>\n",
       "      <th>4</th>\n",
       "      <td>896</td>\n",
       "      <td>3</td>\n",
       "      <td>178</td>\n",
       "      <td>0</td>\n",
       "      <td>22.0</td>\n",
       "      <td>1</td>\n",
       "      <td>1</td>\n",
       "      <td>138</td>\n",
       "      <td>12.2875</td>\n",
       "      <td>76</td>\n",
       "      <td>2</td>\n",
       "    </tr>\n",
       "  </tbody>\n",
       "</table>\n",
       "</div>"
      ],
      "text/plain": [
       "   PassengerId  Pclass  Name  Sex   Age  SibSp  Parch  Ticket     Fare  Cabin  \\\n",
       "0          892       3   206    1  34.5      0      0     152   7.8292     76   \n",
       "1          893       3   403    0  47.0      1      0     221   7.0000     76   \n",
       "2          894       2   269    1  62.0      0      0      73   9.6875     76   \n",
       "3          895       3   408    1  27.0      0      0     147   8.6625     76   \n",
       "4          896       3   178    0  22.0      1      1     138  12.2875     76   \n",
       "\n",
       "   Embarked  \n",
       "0         1  \n",
       "1         2  \n",
       "2         1  \n",
       "3         2  \n",
       "4         2  "
      ]
     },
     "execution_count": 68,
     "metadata": {},
     "output_type": "execute_result"
    }
   ],
   "source": [
    "test_data_new.head()"
   ]
  },
  {
   "cell_type": "code",
   "execution_count": 69,
   "metadata": {},
   "outputs": [
    {
     "name": "stdout",
     "output_type": "stream",
     "text": [
      "<class 'pandas.core.frame.DataFrame'>\n",
      "RangeIndex: 891 entries, 0 to 890\n",
      "Data columns (total 9 columns):\n",
      " #   Column    Non-Null Count  Dtype  \n",
      "---  ------    --------------  -----  \n",
      " 0   Pclass    891 non-null    int64  \n",
      " 1   Sex       891 non-null    int8   \n",
      " 2   Age       891 non-null    float64\n",
      " 3   SibSp     891 non-null    int64  \n",
      " 4   Parch     891 non-null    int64  \n",
      " 5   Ticket    891 non-null    int16  \n",
      " 6   Fare      891 non-null    float64\n",
      " 7   Cabin     891 non-null    int16  \n",
      " 8   Embarked  891 non-null    int8   \n",
      "dtypes: float64(2), int16(2), int64(3), int8(2)\n",
      "memory usage: 40.2 KB\n"
     ]
    }
   ],
   "source": [
    "X_train.info()"
   ]
  },
  {
   "cell_type": "code",
   "execution_count": 70,
   "metadata": {},
   "outputs": [
    {
     "name": "stdout",
     "output_type": "stream",
     "text": [
      "<class 'pandas.core.frame.DataFrame'>\n",
      "RangeIndex: 418 entries, 0 to 417\n",
      "Data columns (total 9 columns):\n",
      " #   Column    Non-Null Count  Dtype  \n",
      "---  ------    --------------  -----  \n",
      " 0   Pclass    418 non-null    int64  \n",
      " 1   Sex       418 non-null    int8   \n",
      " 2   Age       418 non-null    float64\n",
      " 3   SibSp     418 non-null    int64  \n",
      " 4   Parch     418 non-null    int64  \n",
      " 5   Ticket    418 non-null    int16  \n",
      " 6   Fare      418 non-null    float64\n",
      " 7   Cabin     418 non-null    int8   \n",
      " 8   Embarked  418 non-null    int8   \n",
      "dtypes: float64(2), int16(1), int64(3), int8(3)\n",
      "memory usage: 18.5 KB\n"
     ]
    }
   ],
   "source": [
    "X_test.info()"
   ]
  },
  {
   "cell_type": "code",
   "execution_count": 71,
   "metadata": {},
   "outputs": [],
   "source": [
    "preds=rf.predict(X_test)"
   ]
  },
  {
   "cell_type": "code",
   "execution_count": 72,
   "metadata": {},
   "outputs": [
    {
     "data": {
      "text/plain": [
       "array([0, 1, 0, 1, 1, 0, 1, 1, 1, 0, 0, 0, 1, 0, 1, 1, 0, 1, 1, 1, 0, 1,\n",
       "       1, 1, 1, 0, 1, 1, 0, 0, 0, 0, 1, 1, 0, 0, 1, 1, 1, 1, 0, 0, 0, 1,\n",
       "       1, 0, 1, 0, 1, 1, 0, 0, 1, 1, 0, 0, 0, 0, 1, 1, 0, 0, 0, 1, 1, 1,\n",
       "       1, 0, 1, 1, 1, 0, 1, 1, 1, 0, 1, 1, 0, 1, 1, 0, 0, 1, 0, 1, 1, 1,\n",
       "       1, 1, 1, 1, 1, 1, 1, 0, 1, 0, 1, 0, 1, 1, 0, 0, 1, 0, 0, 0, 1, 0,\n",
       "       0, 1, 1, 1, 1, 1, 0, 1, 0, 1, 1, 0, 1, 0, 0, 1, 0, 1, 0, 0, 0, 0,\n",
       "       1, 0, 0, 0, 1, 0, 1, 0, 1, 1, 0, 1, 1, 1, 0, 0, 0, 0, 1, 1, 0, 1,\n",
       "       1, 0, 1, 1, 0, 1, 1, 1, 1, 0, 0, 1, 1, 0, 1, 1, 0, 0, 0, 0, 1, 1,\n",
       "       1, 0, 1, 1, 0, 0, 1, 0, 1, 0, 1, 0, 1, 0, 0, 1, 1, 0, 1, 0, 1, 1,\n",
       "       0, 1, 1, 1, 0, 1, 0, 1, 1, 0, 1, 0, 1, 0, 0, 1, 1, 0, 1, 0, 1, 0,\n",
       "       1, 0, 1, 0, 1, 1, 0, 1, 0, 0, 1, 1, 0, 0, 1, 0, 0, 1, 1, 1, 1, 1,\n",
       "       0, 0, 0, 0, 1, 0, 1, 1, 1, 0, 1, 0, 1, 0, 0, 1, 1, 0, 0, 0, 1, 1,\n",
       "       0, 1, 0, 0, 1, 0, 0, 0, 1, 1, 0, 1, 0, 0, 0, 0, 1, 1, 1, 1, 1, 0,\n",
       "       0, 1, 1, 1, 1, 0, 0, 1, 0, 0, 1, 0, 0, 0, 0, 1, 0, 1, 1, 1, 0, 1,\n",
       "       0, 1, 0, 1, 0, 1, 1, 1, 0, 0, 1, 0, 0, 1, 0, 0, 1, 0, 1, 0, 0, 0,\n",
       "       1, 1, 0, 1, 1, 0, 0, 0, 0, 0, 0, 0, 0, 1, 1, 1, 0, 1, 0, 1, 1, 0,\n",
       "       0, 0, 1, 0, 1, 0, 0, 1, 0, 1, 1, 1, 1, 1, 1, 1, 1, 0, 0, 1, 0, 0,\n",
       "       1, 1, 1, 0, 0, 1, 0, 0, 1, 1, 0, 1, 0, 0, 0, 1, 0, 1, 1, 0, 1, 1,\n",
       "       0, 1, 0, 0, 1, 0, 1, 0, 0, 0, 0, 0, 1, 1, 1, 1, 1, 1, 1, 0, 1, 1],\n",
       "      dtype=int64)"
      ]
     },
     "execution_count": 72,
     "metadata": {},
     "output_type": "execute_result"
    }
   ],
   "source": [
    "preds"
   ]
  },
  {
   "cell_type": "code",
   "execution_count": 73,
   "metadata": {},
   "outputs": [
    {
     "data": {
      "text/plain": [
       "(418,)"
      ]
     },
     "execution_count": 73,
     "metadata": {},
     "output_type": "execute_result"
    }
   ],
   "source": [
    "preds.shape"
   ]
  },
  {
   "cell_type": "code",
   "execution_count": 74,
   "metadata": {},
   "outputs": [
    {
     "data": {
      "text/plain": [
       "0       892\n",
       "1       893\n",
       "2       894\n",
       "3       895\n",
       "4       896\n",
       "       ... \n",
       "413    1305\n",
       "414    1306\n",
       "415    1307\n",
       "416    1308\n",
       "417    1309\n",
       "Name: PassengerId, Length: 418, dtype: int64"
      ]
     },
     "execution_count": 74,
     "metadata": {},
     "output_type": "execute_result"
    }
   ],
   "source": [
    "test_data1[\"PassengerId\"]"
   ]
  },
  {
   "cell_type": "code",
   "execution_count": 75,
   "metadata": {},
   "outputs": [],
   "source": [
    "submission=pd.DataFrame(test_data1[\"PassengerId\"])"
   ]
  },
  {
   "cell_type": "code",
   "execution_count": 76,
   "metadata": {},
   "outputs": [
    {
     "data": {
      "text/html": [
       "<div>\n",
       "<style scoped>\n",
       "    .dataframe tbody tr th:only-of-type {\n",
       "        vertical-align: middle;\n",
       "    }\n",
       "\n",
       "    .dataframe tbody tr th {\n",
       "        vertical-align: top;\n",
       "    }\n",
       "\n",
       "    .dataframe thead th {\n",
       "        text-align: right;\n",
       "    }\n",
       "</style>\n",
       "<table border=\"1\" class=\"dataframe\">\n",
       "  <thead>\n",
       "    <tr style=\"text-align: right;\">\n",
       "      <th></th>\n",
       "      <th>PassengerId</th>\n",
       "    </tr>\n",
       "  </thead>\n",
       "  <tbody>\n",
       "    <tr>\n",
       "      <th>0</th>\n",
       "      <td>892</td>\n",
       "    </tr>\n",
       "    <tr>\n",
       "      <th>1</th>\n",
       "      <td>893</td>\n",
       "    </tr>\n",
       "    <tr>\n",
       "      <th>2</th>\n",
       "      <td>894</td>\n",
       "    </tr>\n",
       "    <tr>\n",
       "      <th>3</th>\n",
       "      <td>895</td>\n",
       "    </tr>\n",
       "    <tr>\n",
       "      <th>4</th>\n",
       "      <td>896</td>\n",
       "    </tr>\n",
       "  </tbody>\n",
       "</table>\n",
       "</div>"
      ],
      "text/plain": [
       "   PassengerId\n",
       "0          892\n",
       "1          893\n",
       "2          894\n",
       "3          895\n",
       "4          896"
      ]
     },
     "execution_count": 76,
     "metadata": {},
     "output_type": "execute_result"
    }
   ],
   "source": [
    "submission.head()"
   ]
  },
  {
   "cell_type": "code",
   "execution_count": 77,
   "metadata": {},
   "outputs": [],
   "source": [
    "submission['Survived']=preds"
   ]
  },
  {
   "cell_type": "code",
   "execution_count": 78,
   "metadata": {},
   "outputs": [
    {
     "data": {
      "text/html": [
       "<div>\n",
       "<style scoped>\n",
       "    .dataframe tbody tr th:only-of-type {\n",
       "        vertical-align: middle;\n",
       "    }\n",
       "\n",
       "    .dataframe tbody tr th {\n",
       "        vertical-align: top;\n",
       "    }\n",
       "\n",
       "    .dataframe thead th {\n",
       "        text-align: right;\n",
       "    }\n",
       "</style>\n",
       "<table border=\"1\" class=\"dataframe\">\n",
       "  <thead>\n",
       "    <tr style=\"text-align: right;\">\n",
       "      <th></th>\n",
       "      <th>PassengerId</th>\n",
       "      <th>Survived</th>\n",
       "    </tr>\n",
       "  </thead>\n",
       "  <tbody>\n",
       "    <tr>\n",
       "      <th>0</th>\n",
       "      <td>892</td>\n",
       "      <td>0</td>\n",
       "    </tr>\n",
       "    <tr>\n",
       "      <th>1</th>\n",
       "      <td>893</td>\n",
       "      <td>1</td>\n",
       "    </tr>\n",
       "    <tr>\n",
       "      <th>2</th>\n",
       "      <td>894</td>\n",
       "      <td>0</td>\n",
       "    </tr>\n",
       "    <tr>\n",
       "      <th>3</th>\n",
       "      <td>895</td>\n",
       "      <td>1</td>\n",
       "    </tr>\n",
       "    <tr>\n",
       "      <th>4</th>\n",
       "      <td>896</td>\n",
       "      <td>1</td>\n",
       "    </tr>\n",
       "    <tr>\n",
       "      <th>...</th>\n",
       "      <td>...</td>\n",
       "      <td>...</td>\n",
       "    </tr>\n",
       "    <tr>\n",
       "      <th>413</th>\n",
       "      <td>1305</td>\n",
       "      <td>1</td>\n",
       "    </tr>\n",
       "    <tr>\n",
       "      <th>414</th>\n",
       "      <td>1306</td>\n",
       "      <td>1</td>\n",
       "    </tr>\n",
       "    <tr>\n",
       "      <th>415</th>\n",
       "      <td>1307</td>\n",
       "      <td>0</td>\n",
       "    </tr>\n",
       "    <tr>\n",
       "      <th>416</th>\n",
       "      <td>1308</td>\n",
       "      <td>1</td>\n",
       "    </tr>\n",
       "    <tr>\n",
       "      <th>417</th>\n",
       "      <td>1309</td>\n",
       "      <td>1</td>\n",
       "    </tr>\n",
       "  </tbody>\n",
       "</table>\n",
       "<p>418 rows × 2 columns</p>\n",
       "</div>"
      ],
      "text/plain": [
       "     PassengerId  Survived\n",
       "0            892         0\n",
       "1            893         1\n",
       "2            894         0\n",
       "3            895         1\n",
       "4            896         1\n",
       "..           ...       ...\n",
       "413         1305         1\n",
       "414         1306         1\n",
       "415         1307         0\n",
       "416         1308         1\n",
       "417         1309         1\n",
       "\n",
       "[418 rows x 2 columns]"
      ]
     },
     "execution_count": 78,
     "metadata": {},
     "output_type": "execute_result"
    }
   ],
   "source": [
    "submission"
   ]
  },
  {
   "cell_type": "code",
   "execution_count": 79,
   "metadata": {},
   "outputs": [
    {
     "data": {
      "text/plain": [
       "(418, 2)"
      ]
     },
     "execution_count": 79,
     "metadata": {},
     "output_type": "execute_result"
    }
   ],
   "source": [
    "submission.shape"
   ]
  },
  {
   "cell_type": "code",
   "execution_count": 80,
   "metadata": {},
   "outputs": [],
   "source": [
    "submission.to_csv('submission.csv',index=False)"
   ]
  },
  {
   "cell_type": "markdown",
   "metadata": {},
   "source": [
    "### omg!!! let's make it simple and see..."
   ]
  },
  {
   "cell_type": "code",
   "execution_count": 81,
   "metadata": {},
   "outputs": [],
   "source": [
    "train = pd.read_csv('train.csv')\n",
    "test = pd.read_csv('test.csv')"
   ]
  },
  {
   "cell_type": "code",
   "execution_count": 82,
   "metadata": {},
   "outputs": [],
   "source": [
    "trainy = train[\"Survived\"]"
   ]
  },
  {
   "cell_type": "code",
   "execution_count": 83,
   "metadata": {},
   "outputs": [],
   "source": [
    "features = [\"Pclass\", \"Sex\", \"SibSp\", \"Parch\"]"
   ]
  },
  {
   "cell_type": "code",
   "execution_count": 84,
   "metadata": {},
   "outputs": [],
   "source": [
    "trainX = pd.get_dummies(train[features])"
   ]
  },
  {
   "cell_type": "code",
   "execution_count": 85,
   "metadata": {},
   "outputs": [],
   "source": [
    "testX = pd.get_dummies(test[features])"
   ]
  },
  {
   "cell_type": "code",
   "execution_count": 86,
   "metadata": {},
   "outputs": [],
   "source": [
    "model = RandomForestClassifier(n_estimators=100, max_depth=5, random_state=1)\n",
    "model.fit(trainX, trainy)\n",
    "predictions = model.predict(testX)"
   ]
  },
  {
   "cell_type": "code",
   "execution_count": 87,
   "metadata": {},
   "outputs": [],
   "source": [
    "submission = pd.DataFrame({'PassengerId': test_data.PassengerId, 'Survived': predictions})\n",
    "submission.to_csv('submission2.csv', index=False)"
   ]
  },
  {
   "cell_type": "code",
   "execution_count": 88,
   "metadata": {},
   "outputs": [
    {
     "data": {
      "text/plain": [
       "0.8159371492704826"
      ]
     },
     "execution_count": 88,
     "metadata": {},
     "output_type": "execute_result"
    }
   ],
   "source": [
    "model.score(trainX, trainy)"
   ]
  },
  {
   "cell_type": "markdown",
   "metadata": {},
   "source": [
    "LET'S TRY SOME BOOSTING ALGORITHMS"
   ]
  },
  {
   "cell_type": "code",
   "execution_count": 90,
   "metadata": {},
   "outputs": [
    {
     "name": "stdout",
     "output_type": "stream",
     "text": [
      "Collecting catboostNote: you may need to restart the kernel to use updated packages.\n",
      "  Downloading catboost-0.23.2-cp37-none-win_amd64.whl (63.6 MB)\n",
      "Requirement already satisfied: scipy in f:\\anaconda3\\lib\\site-packages (from catboost) (1.4.1)\n",
      "Requirement already satisfied: six in f:\\anaconda3\\lib\\site-packages (from catboost) (1.14.0)\n",
      "Collecting plotly\n",
      "\n",
      "  Downloading plotly-4.8.1-py2.py3-none-any.whl (11.5 MB)\n",
      "Collecting graphviz\n",
      "  Downloading graphviz-0.14-py2.py3-none-any.whl (18 kB)\n",
      "Requirement already satisfied: numpy>=1.16.0 in f:\\anaconda3\\lib\\site-packages (from catboost) (1.18.1)\n",
      "Requirement already satisfied: pandas>=0.24.0 in f:\\anaconda3\\lib\\site-packages (from catboost) (1.0.3)\n",
      "Requirement already satisfied: matplotlib in f:\\anaconda3\\lib\\site-packages (from catboost) (3.1.3)\n",
      "Collecting retrying>=1.3.3\n",
      "  Downloading retrying-1.3.3.tar.gz (10 kB)\n",
      "Requirement already satisfied: pytz>=2017.2 in f:\\anaconda3\\lib\\site-packages (from pandas>=0.24.0->catboost) (2019.3)\n",
      "Requirement already satisfied: python-dateutil>=2.6.1 in f:\\anaconda3\\lib\\site-packages (from pandas>=0.24.0->catboost) (2.8.1)\n",
      "Requirement already satisfied: kiwisolver>=1.0.1 in f:\\anaconda3\\lib\\site-packages (from matplotlib->catboost) (1.1.0)\n",
      "Requirement already satisfied: pyparsing!=2.0.4,!=2.1.2,!=2.1.6,>=2.0.1 in f:\\anaconda3\\lib\\site-packages (from matplotlib->catboost) (2.4.6)\n",
      "Requirement already satisfied: cycler>=0.10 in f:\\anaconda3\\lib\\site-packages (from matplotlib->catboost) (0.10.0)\n",
      "Requirement already satisfied: setuptools in f:\\anaconda3\\lib\\site-packages (from kiwisolver>=1.0.1->matplotlib->catboost) (46.1.3.post20200330)\n",
      "Building wheels for collected packages: retrying\n",
      "  Building wheel for retrying (setup.py): started\n",
      "  Building wheel for retrying (setup.py): finished with status 'done'\n",
      "  Created wheel for retrying: filename=retrying-1.3.3-py3-none-any.whl size=11435 sha256=9e6efecf44d5642f18005897c66fedafccf8a2a86a9246ce4452302729a2171c\n",
      "  Stored in directory: c:\\users\\varma\\appdata\\local\\pip\\cache\\wheels\\f9\\8d\\8d\\f6af3f7f9eea3553bc2fe6d53e4b287dad18b06a861ac56ddf\n",
      "Successfully built retrying\n",
      "Installing collected packages: retrying, plotly, graphviz, catboost\n",
      "Successfully installed catboost-0.23.2 graphviz-0.14 plotly-4.8.1 retrying-1.3.3\n"
     ]
    }
   ],
   "source": [
    "pip install catboost\n"
   ]
  },
  {
   "cell_type": "code",
   "execution_count": 92,
   "metadata": {},
   "outputs": [],
   "source": [
    "from catboost import CatBoostClassifier"
   ]
  },
  {
   "cell_type": "code",
   "execution_count": 94,
   "metadata": {},
   "outputs": [],
   "source": [
    "cat = CatBoostClassifier()"
   ]
  },
  {
   "cell_type": "code",
   "execution_count": 95,
   "metadata": {},
   "outputs": [
    {
     "name": "stdout",
     "output_type": "stream",
     "text": [
      "Learning rate set to 0.009807\n",
      "0:\tlearn: 0.6894057\ttotal: 59.7ms\tremaining: 59.7s\n",
      "1:\tlearn: 0.6839181\ttotal: 61.4ms\tremaining: 30.6s\n",
      "2:\tlearn: 0.6785923\ttotal: 62.9ms\tremaining: 20.9s\n",
      "3:\tlearn: 0.6733925\ttotal: 64.4ms\tremaining: 16s\n",
      "4:\tlearn: 0.6680248\ttotal: 66.1ms\tremaining: 13.2s\n",
      "5:\tlearn: 0.6633768\ttotal: 67.6ms\tremaining: 11.2s\n",
      "6:\tlearn: 0.6585247\ttotal: 68.8ms\tremaining: 9.77s\n",
      "7:\tlearn: 0.6535144\ttotal: 70.2ms\tremaining: 8.7s\n",
      "8:\tlearn: 0.6504259\ttotal: 71.3ms\tremaining: 7.85s\n",
      "9:\tlearn: 0.6458738\ttotal: 72.9ms\tremaining: 7.22s\n",
      "10:\tlearn: 0.6407003\ttotal: 75.8ms\tremaining: 6.81s\n",
      "11:\tlearn: 0.6360821\ttotal: 77.4ms\tremaining: 6.37s\n",
      "12:\tlearn: 0.6315407\ttotal: 79.4ms\tremaining: 6.03s\n",
      "13:\tlearn: 0.6271659\ttotal: 81.1ms\tremaining: 5.71s\n",
      "14:\tlearn: 0.6225349\ttotal: 83ms\tremaining: 5.45s\n",
      "15:\tlearn: 0.6199339\ttotal: 84.4ms\tremaining: 5.19s\n",
      "16:\tlearn: 0.6173880\ttotal: 85.9ms\tremaining: 4.96s\n",
      "17:\tlearn: 0.6127456\ttotal: 87.7ms\tremaining: 4.79s\n",
      "18:\tlearn: 0.6092840\ttotal: 89.6ms\tremaining: 4.63s\n",
      "19:\tlearn: 0.6054335\ttotal: 92ms\tremaining: 4.51s\n",
      "20:\tlearn: 0.6014599\ttotal: 94.1ms\tremaining: 4.39s\n",
      "21:\tlearn: 0.5977920\ttotal: 96.9ms\tremaining: 4.31s\n",
      "22:\tlearn: 0.5944251\ttotal: 99.5ms\tremaining: 4.22s\n",
      "23:\tlearn: 0.5902708\ttotal: 102ms\tremaining: 4.17s\n",
      "24:\tlearn: 0.5870698\ttotal: 105ms\tremaining: 4.11s\n",
      "25:\tlearn: 0.5831854\ttotal: 110ms\tremaining: 4.1s\n",
      "26:\tlearn: 0.5801422\ttotal: 112ms\tremaining: 4.04s\n",
      "27:\tlearn: 0.5782040\ttotal: 114ms\tremaining: 3.95s\n",
      "28:\tlearn: 0.5761426\ttotal: 116ms\tremaining: 3.88s\n",
      "29:\tlearn: 0.5730075\ttotal: 119ms\tremaining: 3.86s\n",
      "30:\tlearn: 0.5700027\ttotal: 123ms\tremaining: 3.83s\n",
      "31:\tlearn: 0.5669391\ttotal: 126ms\tremaining: 3.8s\n",
      "32:\tlearn: 0.5642503\ttotal: 128ms\tremaining: 3.76s\n",
      "33:\tlearn: 0.5609561\ttotal: 131ms\tremaining: 3.73s\n",
      "34:\tlearn: 0.5583765\ttotal: 134ms\tremaining: 3.69s\n",
      "35:\tlearn: 0.5555828\ttotal: 137ms\tremaining: 3.66s\n",
      "36:\tlearn: 0.5531569\ttotal: 139ms\tremaining: 3.62s\n",
      "37:\tlearn: 0.5514941\ttotal: 142ms\tremaining: 3.59s\n",
      "38:\tlearn: 0.5500047\ttotal: 144ms\tremaining: 3.56s\n",
      "39:\tlearn: 0.5477075\ttotal: 149ms\tremaining: 3.57s\n",
      "40:\tlearn: 0.5454654\ttotal: 151ms\tremaining: 3.54s\n",
      "41:\tlearn: 0.5426520\ttotal: 154ms\tremaining: 3.52s\n",
      "42:\tlearn: 0.5412983\ttotal: 157ms\tremaining: 3.48s\n",
      "43:\tlearn: 0.5392536\ttotal: 160ms\tremaining: 3.47s\n",
      "44:\tlearn: 0.5369139\ttotal: 162ms\tremaining: 3.44s\n",
      "45:\tlearn: 0.5347825\ttotal: 164ms\tremaining: 3.41s\n",
      "46:\tlearn: 0.5322618\ttotal: 167ms\tremaining: 3.4s\n",
      "47:\tlearn: 0.5310617\ttotal: 170ms\tremaining: 3.38s\n",
      "48:\tlearn: 0.5288213\ttotal: 173ms\tremaining: 3.36s\n",
      "49:\tlearn: 0.5265786\ttotal: 175ms\tremaining: 3.33s\n",
      "50:\tlearn: 0.5247590\ttotal: 178ms\tremaining: 3.31s\n",
      "51:\tlearn: 0.5223423\ttotal: 181ms\tremaining: 3.3s\n",
      "52:\tlearn: 0.5210822\ttotal: 184ms\tremaining: 3.28s\n",
      "53:\tlearn: 0.5190900\ttotal: 187ms\tremaining: 3.27s\n",
      "54:\tlearn: 0.5169408\ttotal: 190ms\tremaining: 3.26s\n",
      "55:\tlearn: 0.5152876\ttotal: 192ms\tremaining: 3.24s\n",
      "56:\tlearn: 0.5140544\ttotal: 196ms\tremaining: 3.24s\n",
      "57:\tlearn: 0.5123824\ttotal: 199ms\tremaining: 3.23s\n",
      "58:\tlearn: 0.5101533\ttotal: 202ms\tremaining: 3.21s\n",
      "59:\tlearn: 0.5086326\ttotal: 204ms\tremaining: 3.2s\n",
      "60:\tlearn: 0.5068758\ttotal: 207ms\tremaining: 3.18s\n",
      "61:\tlearn: 0.5050378\ttotal: 210ms\tremaining: 3.17s\n",
      "62:\tlearn: 0.5034371\ttotal: 213ms\tremaining: 3.16s\n",
      "63:\tlearn: 0.5016818\ttotal: 215ms\tremaining: 3.15s\n",
      "64:\tlearn: 0.5000463\ttotal: 218ms\tremaining: 3.13s\n",
      "65:\tlearn: 0.4987727\ttotal: 220ms\tremaining: 3.11s\n",
      "66:\tlearn: 0.4979416\ttotal: 222ms\tremaining: 3.1s\n",
      "67:\tlearn: 0.4967405\ttotal: 225ms\tremaining: 3.08s\n",
      "68:\tlearn: 0.4958890\ttotal: 227ms\tremaining: 3.06s\n",
      "69:\tlearn: 0.4946633\ttotal: 229ms\tremaining: 3.04s\n",
      "70:\tlearn: 0.4934364\ttotal: 232ms\tremaining: 3.03s\n",
      "71:\tlearn: 0.4922184\ttotal: 235ms\tremaining: 3.02s\n",
      "72:\tlearn: 0.4915614\ttotal: 236ms\tremaining: 3s\n",
      "73:\tlearn: 0.4909180\ttotal: 239ms\tremaining: 2.98s\n",
      "74:\tlearn: 0.4898536\ttotal: 241ms\tremaining: 2.97s\n",
      "75:\tlearn: 0.4888010\ttotal: 243ms\tremaining: 2.96s\n",
      "76:\tlearn: 0.4876194\ttotal: 246ms\tremaining: 2.95s\n",
      "77:\tlearn: 0.4861750\ttotal: 250ms\tremaining: 2.96s\n",
      "78:\tlearn: 0.4856026\ttotal: 253ms\tremaining: 2.95s\n",
      "79:\tlearn: 0.4850421\ttotal: 256ms\tremaining: 2.94s\n",
      "80:\tlearn: 0.4840649\ttotal: 258ms\tremaining: 2.93s\n",
      "81:\tlearn: 0.4829907\ttotal: 260ms\tremaining: 2.92s\n",
      "82:\tlearn: 0.4819962\ttotal: 263ms\tremaining: 2.9s\n",
      "83:\tlearn: 0.4806478\ttotal: 266ms\tremaining: 2.9s\n",
      "84:\tlearn: 0.4796613\ttotal: 268ms\tremaining: 2.89s\n",
      "85:\tlearn: 0.4786111\ttotal: 271ms\tremaining: 2.88s\n",
      "86:\tlearn: 0.4777038\ttotal: 273ms\tremaining: 2.87s\n",
      "87:\tlearn: 0.4764787\ttotal: 276ms\tremaining: 2.86s\n",
      "88:\tlearn: 0.4755059\ttotal: 279ms\tremaining: 2.86s\n",
      "89:\tlearn: 0.4747626\ttotal: 282ms\tremaining: 2.85s\n",
      "90:\tlearn: 0.4739011\ttotal: 285ms\tremaining: 2.85s\n",
      "91:\tlearn: 0.4731245\ttotal: 288ms\tremaining: 2.84s\n",
      "92:\tlearn: 0.4723984\ttotal: 291ms\tremaining: 2.84s\n",
      "93:\tlearn: 0.4711977\ttotal: 294ms\tremaining: 2.83s\n",
      "94:\tlearn: 0.4704418\ttotal: 297ms\tremaining: 2.83s\n",
      "95:\tlearn: 0.4697709\ttotal: 299ms\tremaining: 2.82s\n",
      "96:\tlearn: 0.4688760\ttotal: 303ms\tremaining: 2.82s\n",
      "97:\tlearn: 0.4677794\ttotal: 307ms\tremaining: 2.82s\n",
      "98:\tlearn: 0.4670419\ttotal: 310ms\tremaining: 2.83s\n",
      "99:\tlearn: 0.4663661\ttotal: 314ms\tremaining: 2.82s\n",
      "100:\tlearn: 0.4657726\ttotal: 317ms\tremaining: 2.82s\n",
      "101:\tlearn: 0.4647376\ttotal: 320ms\tremaining: 2.82s\n",
      "102:\tlearn: 0.4641549\ttotal: 323ms\tremaining: 2.81s\n",
      "103:\tlearn: 0.4631674\ttotal: 326ms\tremaining: 2.81s\n",
      "104:\tlearn: 0.4625553\ttotal: 329ms\tremaining: 2.8s\n",
      "105:\tlearn: 0.4618716\ttotal: 332ms\tremaining: 2.8s\n",
      "106:\tlearn: 0.4611170\ttotal: 337ms\tremaining: 2.81s\n",
      "107:\tlearn: 0.4607190\ttotal: 340ms\tremaining: 2.8s\n",
      "108:\tlearn: 0.4601558\ttotal: 343ms\tremaining: 2.8s\n",
      "109:\tlearn: 0.4595214\ttotal: 346ms\tremaining: 2.8s\n",
      "110:\tlearn: 0.4588953\ttotal: 350ms\tremaining: 2.8s\n",
      "111:\tlearn: 0.4586316\ttotal: 352ms\tremaining: 2.79s\n",
      "112:\tlearn: 0.4580985\ttotal: 355ms\tremaining: 2.78s\n",
      "113:\tlearn: 0.4578092\ttotal: 358ms\tremaining: 2.78s\n",
      "114:\tlearn: 0.4572675\ttotal: 360ms\tremaining: 2.77s\n",
      "115:\tlearn: 0.4566944\ttotal: 363ms\tremaining: 2.77s\n",
      "116:\tlearn: 0.4559939\ttotal: 366ms\tremaining: 2.76s\n",
      "117:\tlearn: 0.4553804\ttotal: 369ms\tremaining: 2.75s\n",
      "118:\tlearn: 0.4549977\ttotal: 371ms\tremaining: 2.74s\n",
      "119:\tlearn: 0.4547779\ttotal: 373ms\tremaining: 2.73s\n",
      "120:\tlearn: 0.4542054\ttotal: 376ms\tremaining: 2.73s\n",
      "121:\tlearn: 0.4540746\ttotal: 378ms\tremaining: 2.72s\n",
      "122:\tlearn: 0.4534911\ttotal: 381ms\tremaining: 2.72s\n",
      "123:\tlearn: 0.4527823\ttotal: 384ms\tremaining: 2.71s\n",
      "124:\tlearn: 0.4525825\ttotal: 386ms\tremaining: 2.71s\n",
      "125:\tlearn: 0.4522034\ttotal: 389ms\tremaining: 2.7s\n",
      "126:\tlearn: 0.4515932\ttotal: 392ms\tremaining: 2.69s\n",
      "127:\tlearn: 0.4511390\ttotal: 395ms\tremaining: 2.69s\n",
      "128:\tlearn: 0.4507204\ttotal: 398ms\tremaining: 2.69s\n",
      "129:\tlearn: 0.4502812\ttotal: 401ms\tremaining: 2.68s\n",
      "130:\tlearn: 0.4498921\ttotal: 404ms\tremaining: 2.68s\n",
      "131:\tlearn: 0.4494933\ttotal: 407ms\tremaining: 2.67s\n",
      "132:\tlearn: 0.4490610\ttotal: 409ms\tremaining: 2.67s\n",
      "133:\tlearn: 0.4488981\ttotal: 412ms\tremaining: 2.66s\n",
      "134:\tlearn: 0.4484620\ttotal: 415ms\tremaining: 2.66s\n",
      "135:\tlearn: 0.4480182\ttotal: 418ms\tremaining: 2.66s\n",
      "136:\tlearn: 0.4477438\ttotal: 421ms\tremaining: 2.65s\n",
      "137:\tlearn: 0.4474365\ttotal: 424ms\tremaining: 2.65s\n",
      "138:\tlearn: 0.4468310\ttotal: 427ms\tremaining: 2.64s\n",
      "139:\tlearn: 0.4463809\ttotal: 429ms\tremaining: 2.64s\n",
      "140:\tlearn: 0.4460845\ttotal: 432ms\tremaining: 2.63s\n",
      "141:\tlearn: 0.4458441\ttotal: 435ms\tremaining: 2.63s\n",
      "142:\tlearn: 0.4455418\ttotal: 438ms\tremaining: 2.62s\n",
      "143:\tlearn: 0.4452311\ttotal: 440ms\tremaining: 2.62s\n",
      "144:\tlearn: 0.4451017\ttotal: 442ms\tremaining: 2.61s\n",
      "145:\tlearn: 0.4445172\ttotal: 446ms\tremaining: 2.61s\n",
      "146:\tlearn: 0.4442655\ttotal: 449ms\tremaining: 2.6s\n",
      "147:\tlearn: 0.4438971\ttotal: 452ms\tremaining: 2.6s\n",
      "148:\tlearn: 0.4434935\ttotal: 456ms\tremaining: 2.6s\n",
      "149:\tlearn: 0.4433780\ttotal: 458ms\tremaining: 2.6s\n",
      "150:\tlearn: 0.4428565\ttotal: 462ms\tremaining: 2.6s\n",
      "151:\tlearn: 0.4425977\ttotal: 464ms\tremaining: 2.59s\n",
      "152:\tlearn: 0.4423807\ttotal: 467ms\tremaining: 2.59s\n",
      "153:\tlearn: 0.4418747\ttotal: 471ms\tremaining: 2.59s\n",
      "154:\tlearn: 0.4414506\ttotal: 474ms\tremaining: 2.58s\n",
      "155:\tlearn: 0.4412465\ttotal: 476ms\tremaining: 2.58s\n",
      "156:\tlearn: 0.4410141\ttotal: 479ms\tremaining: 2.57s\n",
      "157:\tlearn: 0.4406206\ttotal: 483ms\tremaining: 2.57s\n",
      "158:\tlearn: 0.4405265\ttotal: 486ms\tremaining: 2.57s\n",
      "159:\tlearn: 0.4401712\ttotal: 489ms\tremaining: 2.57s\n",
      "160:\tlearn: 0.4397224\ttotal: 492ms\tremaining: 2.56s\n",
      "161:\tlearn: 0.4395336\ttotal: 495ms\tremaining: 2.56s\n",
      "162:\tlearn: 0.4393914\ttotal: 499ms\tremaining: 2.56s\n",
      "163:\tlearn: 0.4392535\ttotal: 501ms\tremaining: 2.56s\n",
      "164:\tlearn: 0.4390506\ttotal: 506ms\tremaining: 2.56s\n",
      "165:\tlearn: 0.4387579\ttotal: 509ms\tremaining: 2.56s\n",
      "166:\tlearn: 0.4383448\ttotal: 513ms\tremaining: 2.56s\n",
      "167:\tlearn: 0.4381778\ttotal: 515ms\tremaining: 2.55s\n",
      "168:\tlearn: 0.4381193\ttotal: 517ms\tremaining: 2.54s\n",
      "169:\tlearn: 0.4380175\ttotal: 521ms\tremaining: 2.54s\n",
      "170:\tlearn: 0.4376294\ttotal: 524ms\tremaining: 2.54s\n",
      "171:\tlearn: 0.4375270\ttotal: 527ms\tremaining: 2.53s\n",
      "172:\tlearn: 0.4372278\ttotal: 529ms\tremaining: 2.53s\n",
      "173:\tlearn: 0.4368997\ttotal: 532ms\tremaining: 2.53s\n",
      "174:\tlearn: 0.4367497\ttotal: 535ms\tremaining: 2.52s\n",
      "175:\tlearn: 0.4365526\ttotal: 538ms\tremaining: 2.52s\n",
      "176:\tlearn: 0.4363478\ttotal: 541ms\tremaining: 2.52s\n",
      "177:\tlearn: 0.4360172\ttotal: 545ms\tremaining: 2.52s\n",
      "178:\tlearn: 0.4358795\ttotal: 548ms\tremaining: 2.51s\n",
      "179:\tlearn: 0.4355637\ttotal: 551ms\tremaining: 2.51s\n",
      "180:\tlearn: 0.4354181\ttotal: 555ms\tremaining: 2.51s\n",
      "181:\tlearn: 0.4353607\ttotal: 558ms\tremaining: 2.51s\n",
      "182:\tlearn: 0.4351632\ttotal: 562ms\tremaining: 2.51s\n",
      "183:\tlearn: 0.4348067\ttotal: 565ms\tremaining: 2.51s\n",
      "184:\tlearn: 0.4344461\ttotal: 569ms\tremaining: 2.5s\n",
      "185:\tlearn: 0.4342090\ttotal: 572ms\tremaining: 2.5s\n",
      "186:\tlearn: 0.4341409\ttotal: 576ms\tremaining: 2.5s\n",
      "187:\tlearn: 0.4339966\ttotal: 579ms\tremaining: 2.5s\n",
      "188:\tlearn: 0.4337268\ttotal: 582ms\tremaining: 2.5s\n",
      "189:\tlearn: 0.4335273\ttotal: 586ms\tremaining: 2.5s\n",
      "190:\tlearn: 0.4333899\ttotal: 589ms\tremaining: 2.49s\n",
      "191:\tlearn: 0.4333130\ttotal: 591ms\tremaining: 2.49s\n",
      "192:\tlearn: 0.4331386\ttotal: 595ms\tremaining: 2.49s\n",
      "193:\tlearn: 0.4327982\ttotal: 599ms\tremaining: 2.49s\n",
      "194:\tlearn: 0.4327545\ttotal: 601ms\tremaining: 2.48s\n",
      "195:\tlearn: 0.4326694\ttotal: 604ms\tremaining: 2.48s\n",
      "196:\tlearn: 0.4325861\ttotal: 608ms\tremaining: 2.48s\n",
      "197:\tlearn: 0.4325347\ttotal: 610ms\tremaining: 2.47s\n",
      "198:\tlearn: 0.4323782\ttotal: 614ms\tremaining: 2.47s\n",
      "199:\tlearn: 0.4323417\ttotal: 616ms\tremaining: 2.46s\n",
      "200:\tlearn: 0.4319777\ttotal: 620ms\tremaining: 2.46s\n",
      "201:\tlearn: 0.4318392\ttotal: 623ms\tremaining: 2.46s\n",
      "202:\tlearn: 0.4315335\ttotal: 626ms\tremaining: 2.46s\n",
      "203:\tlearn: 0.4312322\ttotal: 629ms\tremaining: 2.45s\n",
      "204:\tlearn: 0.4310706\ttotal: 634ms\tremaining: 2.46s\n",
      "205:\tlearn: 0.4310032\ttotal: 638ms\tremaining: 2.46s\n",
      "206:\tlearn: 0.4309210\ttotal: 641ms\tremaining: 2.46s\n",
      "207:\tlearn: 0.4308322\ttotal: 643ms\tremaining: 2.45s\n",
      "208:\tlearn: 0.4306989\ttotal: 648ms\tremaining: 2.45s\n",
      "209:\tlearn: 0.4306016\ttotal: 652ms\tremaining: 2.45s\n",
      "210:\tlearn: 0.4305049\ttotal: 655ms\tremaining: 2.45s\n",
      "211:\tlearn: 0.4304443\ttotal: 658ms\tremaining: 2.44s\n",
      "212:\tlearn: 0.4303085\ttotal: 662ms\tremaining: 2.44s\n",
      "213:\tlearn: 0.4302828\ttotal: 665ms\tremaining: 2.44s\n",
      "214:\tlearn: 0.4300115\ttotal: 669ms\tremaining: 2.44s\n",
      "215:\tlearn: 0.4297602\ttotal: 673ms\tremaining: 2.44s\n",
      "216:\tlearn: 0.4295911\ttotal: 677ms\tremaining: 2.44s\n",
      "217:\tlearn: 0.4294437\ttotal: 680ms\tremaining: 2.44s\n",
      "218:\tlearn: 0.4291789\ttotal: 684ms\tremaining: 2.44s\n",
      "219:\tlearn: 0.4288887\ttotal: 687ms\tremaining: 2.44s\n",
      "220:\tlearn: 0.4288176\ttotal: 690ms\tremaining: 2.43s\n",
      "221:\tlearn: 0.4287682\ttotal: 693ms\tremaining: 2.43s\n",
      "222:\tlearn: 0.4287100\ttotal: 695ms\tremaining: 2.42s\n",
      "223:\tlearn: 0.4285679\ttotal: 698ms\tremaining: 2.42s\n",
      "224:\tlearn: 0.4284998\ttotal: 701ms\tremaining: 2.41s\n",
      "225:\tlearn: 0.4283982\ttotal: 704ms\tremaining: 2.41s\n",
      "226:\tlearn: 0.4283329\ttotal: 707ms\tremaining: 2.41s\n",
      "227:\tlearn: 0.4282523\ttotal: 710ms\tremaining: 2.4s\n",
      "228:\tlearn: 0.4280367\ttotal: 714ms\tremaining: 2.4s\n",
      "229:\tlearn: 0.4278551\ttotal: 717ms\tremaining: 2.4s\n",
      "230:\tlearn: 0.4276769\ttotal: 720ms\tremaining: 2.4s\n",
      "231:\tlearn: 0.4275613\ttotal: 724ms\tremaining: 2.4s\n",
      "232:\tlearn: 0.4274062\ttotal: 727ms\tremaining: 2.39s\n",
      "233:\tlearn: 0.4272574\ttotal: 730ms\tremaining: 2.39s\n",
      "234:\tlearn: 0.4271850\ttotal: 733ms\tremaining: 2.39s\n",
      "235:\tlearn: 0.4269153\ttotal: 736ms\tremaining: 2.38s\n",
      "236:\tlearn: 0.4268374\ttotal: 739ms\tremaining: 2.38s\n",
      "237:\tlearn: 0.4268161\ttotal: 741ms\tremaining: 2.37s\n",
      "238:\tlearn: 0.4267522\ttotal: 745ms\tremaining: 2.37s\n",
      "239:\tlearn: 0.4266854\ttotal: 748ms\tremaining: 2.37s\n",
      "240:\tlearn: 0.4265176\ttotal: 750ms\tremaining: 2.36s\n",
      "241:\tlearn: 0.4263752\ttotal: 753ms\tremaining: 2.36s\n",
      "242:\tlearn: 0.4261590\ttotal: 756ms\tremaining: 2.35s\n",
      "243:\tlearn: 0.4260265\ttotal: 760ms\tremaining: 2.35s\n",
      "244:\tlearn: 0.4259774\ttotal: 763ms\tremaining: 2.35s\n",
      "245:\tlearn: 0.4259403\ttotal: 766ms\tremaining: 2.35s\n",
      "246:\tlearn: 0.4259052\ttotal: 768ms\tremaining: 2.34s\n",
      "247:\tlearn: 0.4258100\ttotal: 772ms\tremaining: 2.34s\n",
      "248:\tlearn: 0.4255842\ttotal: 775ms\tremaining: 2.34s\n",
      "249:\tlearn: 0.4254348\ttotal: 778ms\tremaining: 2.33s\n",
      "250:\tlearn: 0.4252887\ttotal: 782ms\tremaining: 2.33s\n",
      "251:\tlearn: 0.4252172\ttotal: 786ms\tremaining: 2.33s\n",
      "252:\tlearn: 0.4251824\ttotal: 789ms\tremaining: 2.33s\n",
      "253:\tlearn: 0.4250541\ttotal: 792ms\tremaining: 2.33s\n",
      "254:\tlearn: 0.4248141\ttotal: 796ms\tremaining: 2.33s\n",
      "255:\tlearn: 0.4247308\ttotal: 799ms\tremaining: 2.32s\n",
      "256:\tlearn: 0.4245383\ttotal: 803ms\tremaining: 2.32s\n",
      "257:\tlearn: 0.4244773\ttotal: 805ms\tremaining: 2.32s\n",
      "258:\tlearn: 0.4244454\ttotal: 808ms\tremaining: 2.31s\n",
      "259:\tlearn: 0.4243575\ttotal: 811ms\tremaining: 2.31s\n",
      "260:\tlearn: 0.4242250\ttotal: 814ms\tremaining: 2.3s\n",
      "261:\tlearn: 0.4241565\ttotal: 816ms\tremaining: 2.3s\n",
      "262:\tlearn: 0.4241446\ttotal: 819ms\tremaining: 2.29s\n",
      "263:\tlearn: 0.4239308\ttotal: 822ms\tremaining: 2.29s\n",
      "264:\tlearn: 0.4238518\ttotal: 825ms\tremaining: 2.29s\n",
      "265:\tlearn: 0.4237857\ttotal: 827ms\tremaining: 2.28s\n",
      "266:\tlearn: 0.4237089\ttotal: 830ms\tremaining: 2.28s\n",
      "267:\tlearn: 0.4236883\ttotal: 832ms\tremaining: 2.27s\n",
      "268:\tlearn: 0.4236501\ttotal: 834ms\tremaining: 2.27s\n",
      "269:\tlearn: 0.4236160\ttotal: 836ms\tremaining: 2.26s\n",
      "270:\tlearn: 0.4235645\ttotal: 838ms\tremaining: 2.25s\n",
      "271:\tlearn: 0.4235193\ttotal: 840ms\tremaining: 2.25s\n",
      "272:\tlearn: 0.4234053\ttotal: 843ms\tremaining: 2.24s\n",
      "273:\tlearn: 0.4233789\ttotal: 845ms\tremaining: 2.24s\n",
      "274:\tlearn: 0.4233544\ttotal: 847ms\tremaining: 2.23s\n",
      "275:\tlearn: 0.4232829\ttotal: 850ms\tremaining: 2.23s\n",
      "276:\tlearn: 0.4232611\ttotal: 851ms\tremaining: 2.22s\n",
      "277:\tlearn: 0.4232384\ttotal: 853ms\tremaining: 2.21s\n",
      "278:\tlearn: 0.4231393\ttotal: 855ms\tremaining: 2.21s\n",
      "279:\tlearn: 0.4230163\ttotal: 856ms\tremaining: 2.2s\n",
      "280:\tlearn: 0.4229992\ttotal: 858ms\tremaining: 2.19s\n",
      "281:\tlearn: 0.4229128\ttotal: 860ms\tremaining: 2.19s\n",
      "282:\tlearn: 0.4228718\ttotal: 862ms\tremaining: 2.18s\n",
      "283:\tlearn: 0.4228434\ttotal: 864ms\tremaining: 2.18s\n",
      "284:\tlearn: 0.4228352\ttotal: 866ms\tremaining: 2.17s\n",
      "285:\tlearn: 0.4226940\ttotal: 868ms\tremaining: 2.17s\n",
      "286:\tlearn: 0.4225609\ttotal: 870ms\tremaining: 2.16s\n",
      "287:\tlearn: 0.4224758\ttotal: 872ms\tremaining: 2.16s\n",
      "288:\tlearn: 0.4223947\ttotal: 875ms\tremaining: 2.15s\n",
      "289:\tlearn: 0.4222237\ttotal: 876ms\tremaining: 2.15s\n",
      "290:\tlearn: 0.4221738\ttotal: 878ms\tremaining: 2.14s\n",
      "291:\tlearn: 0.4220121\ttotal: 881ms\tremaining: 2.13s\n",
      "292:\tlearn: 0.4219931\ttotal: 883ms\tremaining: 2.13s\n",
      "293:\tlearn: 0.4219472\ttotal: 885ms\tremaining: 2.13s\n",
      "294:\tlearn: 0.4219215\ttotal: 887ms\tremaining: 2.12s\n",
      "295:\tlearn: 0.4217641\ttotal: 890ms\tremaining: 2.12s\n",
      "296:\tlearn: 0.4217432\ttotal: 892ms\tremaining: 2.11s\n",
      "297:\tlearn: 0.4215950\ttotal: 895ms\tremaining: 2.11s\n",
      "298:\tlearn: 0.4214920\ttotal: 899ms\tremaining: 2.11s\n",
      "299:\tlearn: 0.4214837\ttotal: 900ms\tremaining: 2.1s\n",
      "300:\tlearn: 0.4214289\ttotal: 902ms\tremaining: 2.09s\n",
      "301:\tlearn: 0.4212229\ttotal: 904ms\tremaining: 2.09s\n",
      "302:\tlearn: 0.4212053\ttotal: 906ms\tremaining: 2.08s\n",
      "303:\tlearn: 0.4211707\ttotal: 910ms\tremaining: 2.08s\n",
      "304:\tlearn: 0.4210219\ttotal: 913ms\tremaining: 2.08s\n",
      "305:\tlearn: 0.4210163\ttotal: 914ms\tremaining: 2.07s\n",
      "306:\tlearn: 0.4209239\ttotal: 916ms\tremaining: 2.07s\n",
      "307:\tlearn: 0.4208807\ttotal: 918ms\tremaining: 2.06s\n",
      "308:\tlearn: 0.4208372\ttotal: 920ms\tremaining: 2.06s\n",
      "309:\tlearn: 0.4207010\ttotal: 922ms\tremaining: 2.05s\n",
      "310:\tlearn: 0.4206193\ttotal: 924ms\tremaining: 2.05s\n",
      "311:\tlearn: 0.4205671\ttotal: 926ms\tremaining: 2.04s\n",
      "312:\tlearn: 0.4205594\ttotal: 928ms\tremaining: 2.04s\n",
      "313:\tlearn: 0.4204592\ttotal: 929ms\tremaining: 2.03s\n",
      "314:\tlearn: 0.4203776\ttotal: 931ms\tremaining: 2.02s\n",
      "315:\tlearn: 0.4202650\ttotal: 934ms\tremaining: 2.02s\n",
      "316:\tlearn: 0.4201553\ttotal: 936ms\tremaining: 2.02s\n",
      "317:\tlearn: 0.4201470\ttotal: 938ms\tremaining: 2.01s\n",
      "318:\tlearn: 0.4200107\ttotal: 940ms\tremaining: 2.01s\n",
      "319:\tlearn: 0.4199957\ttotal: 942ms\tremaining: 2s\n",
      "320:\tlearn: 0.4199721\ttotal: 944ms\tremaining: 2s\n",
      "321:\tlearn: 0.4197826\ttotal: 947ms\tremaining: 1.99s\n",
      "322:\tlearn: 0.4197662\ttotal: 949ms\tremaining: 1.99s\n",
      "323:\tlearn: 0.4197155\ttotal: 952ms\tremaining: 1.99s\n",
      "324:\tlearn: 0.4196579\ttotal: 954ms\tremaining: 1.98s\n",
      "325:\tlearn: 0.4195603\ttotal: 957ms\tremaining: 1.98s\n",
      "326:\tlearn: 0.4195273\ttotal: 959ms\tremaining: 1.97s\n",
      "327:\tlearn: 0.4195107\ttotal: 961ms\tremaining: 1.97s\n",
      "328:\tlearn: 0.4194389\ttotal: 963ms\tremaining: 1.96s\n",
      "329:\tlearn: 0.4193409\ttotal: 965ms\tremaining: 1.96s\n",
      "330:\tlearn: 0.4193023\ttotal: 967ms\tremaining: 1.95s\n",
      "331:\tlearn: 0.4192317\ttotal: 969ms\tremaining: 1.95s\n",
      "332:\tlearn: 0.4192212\ttotal: 970ms\tremaining: 1.94s\n",
      "333:\tlearn: 0.4190538\ttotal: 973ms\tremaining: 1.94s\n",
      "334:\tlearn: 0.4189661\ttotal: 975ms\tremaining: 1.93s\n",
      "335:\tlearn: 0.4189623\ttotal: 976ms\tremaining: 1.93s\n",
      "336:\tlearn: 0.4188782\ttotal: 978ms\tremaining: 1.92s\n",
      "337:\tlearn: 0.4188419\ttotal: 980ms\tremaining: 1.92s\n",
      "338:\tlearn: 0.4187085\ttotal: 982ms\tremaining: 1.91s\n",
      "339:\tlearn: 0.4186886\ttotal: 983ms\tremaining: 1.91s\n",
      "340:\tlearn: 0.4185962\ttotal: 986ms\tremaining: 1.9s\n",
      "341:\tlearn: 0.4185033\ttotal: 987ms\tremaining: 1.9s\n",
      "342:\tlearn: 0.4184902\ttotal: 989ms\tremaining: 1.89s\n",
      "343:\tlearn: 0.4183858\ttotal: 991ms\tremaining: 1.89s\n",
      "344:\tlearn: 0.4183384\ttotal: 992ms\tremaining: 1.88s\n",
      "345:\tlearn: 0.4183238\ttotal: 995ms\tremaining: 1.88s\n",
      "346:\tlearn: 0.4183011\ttotal: 998ms\tremaining: 1.88s\n",
      "347:\tlearn: 0.4182918\ttotal: 1s\tremaining: 1.88s\n",
      "348:\tlearn: 0.4182714\ttotal: 1s\tremaining: 1.87s\n",
      "349:\tlearn: 0.4182551\ttotal: 1.01s\tremaining: 1.87s\n",
      "350:\tlearn: 0.4181563\ttotal: 1.01s\tremaining: 1.87s\n",
      "351:\tlearn: 0.4180129\ttotal: 1.01s\tremaining: 1.87s\n",
      "352:\tlearn: 0.4179364\ttotal: 1.02s\tremaining: 1.87s\n",
      "353:\tlearn: 0.4179226\ttotal: 1.02s\tremaining: 1.86s\n",
      "354:\tlearn: 0.4178780\ttotal: 1.02s\tremaining: 1.86s\n",
      "355:\tlearn: 0.4177465\ttotal: 1.03s\tremaining: 1.86s\n",
      "356:\tlearn: 0.4176822\ttotal: 1.03s\tremaining: 1.86s\n",
      "357:\tlearn: 0.4176563\ttotal: 1.03s\tremaining: 1.86s\n",
      "358:\tlearn: 0.4176400\ttotal: 1.04s\tremaining: 1.85s\n",
      "359:\tlearn: 0.4176361\ttotal: 1.04s\tremaining: 1.85s\n",
      "360:\tlearn: 0.4175433\ttotal: 1.04s\tremaining: 1.85s\n",
      "361:\tlearn: 0.4175107\ttotal: 1.05s\tremaining: 1.85s\n",
      "362:\tlearn: 0.4174597\ttotal: 1.05s\tremaining: 1.84s\n",
      "363:\tlearn: 0.4174573\ttotal: 1.05s\tremaining: 1.84s\n",
      "364:\tlearn: 0.4174320\ttotal: 1.05s\tremaining: 1.84s\n",
      "365:\tlearn: 0.4174097\ttotal: 1.06s\tremaining: 1.84s\n",
      "366:\tlearn: 0.4173815\ttotal: 1.06s\tremaining: 1.84s\n",
      "367:\tlearn: 0.4173604\ttotal: 1.07s\tremaining: 1.83s\n",
      "368:\tlearn: 0.4171978\ttotal: 1.07s\tremaining: 1.83s\n",
      "369:\tlearn: 0.4171196\ttotal: 1.07s\tremaining: 1.83s\n",
      "370:\tlearn: 0.4170990\ttotal: 1.08s\tremaining: 1.83s\n",
      "371:\tlearn: 0.4170054\ttotal: 1.08s\tremaining: 1.83s\n",
      "372:\tlearn: 0.4169878\ttotal: 1.08s\tremaining: 1.82s\n",
      "373:\tlearn: 0.4169183\ttotal: 1.09s\tremaining: 1.82s\n",
      "374:\tlearn: 0.4167616\ttotal: 1.09s\tremaining: 1.82s\n",
      "375:\tlearn: 0.4167597\ttotal: 1.09s\tremaining: 1.81s\n",
      "376:\tlearn: 0.4166449\ttotal: 1.1s\tremaining: 1.81s\n",
      "377:\tlearn: 0.4165951\ttotal: 1.1s\tremaining: 1.81s\n",
      "378:\tlearn: 0.4165567\ttotal: 1.1s\tremaining: 1.81s\n",
      "379:\tlearn: 0.4164941\ttotal: 1.1s\tremaining: 1.8s\n",
      "380:\tlearn: 0.4164069\ttotal: 1.11s\tremaining: 1.8s\n",
      "381:\tlearn: 0.4162971\ttotal: 1.11s\tremaining: 1.8s\n",
      "382:\tlearn: 0.4162804\ttotal: 1.12s\tremaining: 1.8s\n",
      "383:\tlearn: 0.4162679\ttotal: 1.12s\tremaining: 1.79s\n",
      "384:\tlearn: 0.4162663\ttotal: 1.12s\tremaining: 1.79s\n",
      "385:\tlearn: 0.4162560\ttotal: 1.12s\tremaining: 1.79s\n",
      "386:\tlearn: 0.4162134\ttotal: 1.13s\tremaining: 1.79s\n",
      "387:\tlearn: 0.4162034\ttotal: 1.13s\tremaining: 1.78s\n",
      "388:\tlearn: 0.4161471\ttotal: 1.13s\tremaining: 1.78s\n",
      "389:\tlearn: 0.4160542\ttotal: 1.14s\tremaining: 1.78s\n",
      "390:\tlearn: 0.4160428\ttotal: 1.14s\tremaining: 1.77s\n",
      "391:\tlearn: 0.4160035\ttotal: 1.14s\tremaining: 1.77s\n",
      "392:\tlearn: 0.4160007\ttotal: 1.15s\tremaining: 1.77s\n",
      "393:\tlearn: 0.4159885\ttotal: 1.15s\tremaining: 1.76s\n",
      "394:\tlearn: 0.4159308\ttotal: 1.15s\tremaining: 1.76s\n",
      "395:\tlearn: 0.4158159\ttotal: 1.15s\tremaining: 1.76s\n",
      "396:\tlearn: 0.4157976\ttotal: 1.16s\tremaining: 1.75s\n",
      "397:\tlearn: 0.4157412\ttotal: 1.16s\tremaining: 1.75s\n",
      "398:\tlearn: 0.4157170\ttotal: 1.16s\tremaining: 1.75s\n",
      "399:\tlearn: 0.4156773\ttotal: 1.16s\tremaining: 1.75s\n",
      "400:\tlearn: 0.4156305\ttotal: 1.17s\tremaining: 1.74s\n",
      "401:\tlearn: 0.4156213\ttotal: 1.17s\tremaining: 1.74s\n",
      "402:\tlearn: 0.4155995\ttotal: 1.17s\tremaining: 1.74s\n",
      "403:\tlearn: 0.4155882\ttotal: 1.18s\tremaining: 1.73s\n",
      "404:\tlearn: 0.4155752\ttotal: 1.18s\tremaining: 1.73s\n",
      "405:\tlearn: 0.4154917\ttotal: 1.18s\tremaining: 1.73s\n",
      "406:\tlearn: 0.4154733\ttotal: 1.18s\tremaining: 1.72s\n",
      "407:\tlearn: 0.4154103\ttotal: 1.19s\tremaining: 1.72s\n",
      "408:\tlearn: 0.4153969\ttotal: 1.19s\tremaining: 1.72s\n",
      "409:\tlearn: 0.4152931\ttotal: 1.19s\tremaining: 1.71s\n",
      "410:\tlearn: 0.4152796\ttotal: 1.19s\tremaining: 1.71s\n",
      "411:\tlearn: 0.4152196\ttotal: 1.2s\tremaining: 1.71s\n",
      "412:\tlearn: 0.4151334\ttotal: 1.2s\tremaining: 1.71s\n",
      "413:\tlearn: 0.4151176\ttotal: 1.2s\tremaining: 1.7s\n",
      "414:\tlearn: 0.4150890\ttotal: 1.21s\tremaining: 1.7s\n",
      "415:\tlearn: 0.4149988\ttotal: 1.21s\tremaining: 1.7s\n",
      "416:\tlearn: 0.4149665\ttotal: 1.22s\tremaining: 1.7s\n",
      "417:\tlearn: 0.4149221\ttotal: 1.22s\tremaining: 1.7s\n",
      "418:\tlearn: 0.4148351\ttotal: 1.22s\tremaining: 1.69s\n",
      "419:\tlearn: 0.4147894\ttotal: 1.22s\tremaining: 1.69s\n",
      "420:\tlearn: 0.4147839\ttotal: 1.23s\tremaining: 1.69s\n",
      "421:\tlearn: 0.4147750\ttotal: 1.23s\tremaining: 1.69s\n",
      "422:\tlearn: 0.4146648\ttotal: 1.23s\tremaining: 1.68s\n",
      "423:\tlearn: 0.4146257\ttotal: 1.24s\tremaining: 1.68s\n",
      "424:\tlearn: 0.4145666\ttotal: 1.24s\tremaining: 1.68s\n",
      "425:\tlearn: 0.4145522\ttotal: 1.25s\tremaining: 1.68s\n",
      "426:\tlearn: 0.4145031\ttotal: 1.25s\tremaining: 1.68s\n",
      "427:\tlearn: 0.4144420\ttotal: 1.25s\tremaining: 1.67s\n",
      "428:\tlearn: 0.4144180\ttotal: 1.25s\tremaining: 1.67s\n",
      "429:\tlearn: 0.4142860\ttotal: 1.26s\tremaining: 1.67s\n",
      "430:\tlearn: 0.4142763\ttotal: 1.26s\tremaining: 1.67s\n",
      "431:\tlearn: 0.4142662\ttotal: 1.26s\tremaining: 1.66s\n",
      "432:\tlearn: 0.4142481\ttotal: 1.27s\tremaining: 1.66s\n",
      "433:\tlearn: 0.4142007\ttotal: 1.27s\tremaining: 1.66s\n",
      "434:\tlearn: 0.4141014\ttotal: 1.27s\tremaining: 1.66s\n",
      "435:\tlearn: 0.4140894\ttotal: 1.28s\tremaining: 1.65s\n",
      "436:\tlearn: 0.4140240\ttotal: 1.28s\tremaining: 1.65s\n",
      "437:\tlearn: 0.4139943\ttotal: 1.28s\tremaining: 1.65s\n",
      "438:\tlearn: 0.4139775\ttotal: 1.29s\tremaining: 1.64s\n",
      "439:\tlearn: 0.4139445\ttotal: 1.29s\tremaining: 1.64s\n",
      "440:\tlearn: 0.4139110\ttotal: 1.29s\tremaining: 1.64s\n",
      "441:\tlearn: 0.4139032\ttotal: 1.3s\tremaining: 1.64s\n",
      "442:\tlearn: 0.4139015\ttotal: 1.3s\tremaining: 1.63s\n",
      "443:\tlearn: 0.4138940\ttotal: 1.3s\tremaining: 1.63s\n",
      "444:\tlearn: 0.4138908\ttotal: 1.3s\tremaining: 1.63s\n",
      "445:\tlearn: 0.4138740\ttotal: 1.31s\tremaining: 1.62s\n",
      "446:\tlearn: 0.4137874\ttotal: 1.31s\tremaining: 1.62s\n",
      "447:\tlearn: 0.4137461\ttotal: 1.31s\tremaining: 1.62s\n",
      "448:\tlearn: 0.4137394\ttotal: 1.31s\tremaining: 1.61s\n",
      "449:\tlearn: 0.4137388\ttotal: 1.32s\tremaining: 1.61s\n",
      "450:\tlearn: 0.4136356\ttotal: 1.32s\tremaining: 1.61s\n",
      "451:\tlearn: 0.4136109\ttotal: 1.32s\tremaining: 1.6s\n",
      "452:\tlearn: 0.4135203\ttotal: 1.32s\tremaining: 1.6s\n",
      "453:\tlearn: 0.4134908\ttotal: 1.33s\tremaining: 1.6s\n",
      "454:\tlearn: 0.4134362\ttotal: 1.33s\tremaining: 1.59s\n",
      "455:\tlearn: 0.4134247\ttotal: 1.33s\tremaining: 1.59s\n",
      "456:\tlearn: 0.4134207\ttotal: 1.34s\tremaining: 1.59s\n",
      "457:\tlearn: 0.4133917\ttotal: 1.34s\tremaining: 1.58s\n",
      "458:\tlearn: 0.4133741\ttotal: 1.34s\tremaining: 1.58s\n",
      "459:\tlearn: 0.4133415\ttotal: 1.35s\tremaining: 1.58s\n",
      "460:\tlearn: 0.4133265\ttotal: 1.35s\tremaining: 1.58s\n",
      "461:\tlearn: 0.4133098\ttotal: 1.35s\tremaining: 1.58s\n",
      "462:\tlearn: 0.4132298\ttotal: 1.36s\tremaining: 1.57s\n",
      "463:\tlearn: 0.4131919\ttotal: 1.36s\tremaining: 1.57s\n",
      "464:\tlearn: 0.4131753\ttotal: 1.36s\tremaining: 1.57s\n",
      "465:\tlearn: 0.4131354\ttotal: 1.37s\tremaining: 1.57s\n",
      "466:\tlearn: 0.4131031\ttotal: 1.37s\tremaining: 1.56s\n",
      "467:\tlearn: 0.4130930\ttotal: 1.37s\tremaining: 1.56s\n",
      "468:\tlearn: 0.4130232\ttotal: 1.38s\tremaining: 1.56s\n",
      "469:\tlearn: 0.4129986\ttotal: 1.38s\tremaining: 1.56s\n",
      "470:\tlearn: 0.4128894\ttotal: 1.38s\tremaining: 1.55s\n",
      "471:\tlearn: 0.4127924\ttotal: 1.39s\tremaining: 1.55s\n",
      "472:\tlearn: 0.4127871\ttotal: 1.39s\tremaining: 1.55s\n",
      "473:\tlearn: 0.4127743\ttotal: 1.39s\tremaining: 1.55s\n",
      "474:\tlearn: 0.4127342\ttotal: 1.4s\tremaining: 1.54s\n",
      "475:\tlearn: 0.4127180\ttotal: 1.4s\tremaining: 1.54s\n",
      "476:\tlearn: 0.4127081\ttotal: 1.4s\tremaining: 1.54s\n",
      "477:\tlearn: 0.4126436\ttotal: 1.41s\tremaining: 1.54s\n",
      "478:\tlearn: 0.4126166\ttotal: 1.41s\tremaining: 1.53s\n",
      "479:\tlearn: 0.4125801\ttotal: 1.41s\tremaining: 1.53s\n",
      "480:\tlearn: 0.4125150\ttotal: 1.42s\tremaining: 1.53s\n",
      "481:\tlearn: 0.4125025\ttotal: 1.42s\tremaining: 1.53s\n",
      "482:\tlearn: 0.4124955\ttotal: 1.42s\tremaining: 1.52s\n",
      "483:\tlearn: 0.4124919\ttotal: 1.43s\tremaining: 1.52s\n",
      "484:\tlearn: 0.4124588\ttotal: 1.43s\tremaining: 1.52s\n",
      "485:\tlearn: 0.4124344\ttotal: 1.43s\tremaining: 1.51s\n",
      "486:\tlearn: 0.4123712\ttotal: 1.43s\tremaining: 1.51s\n",
      "487:\tlearn: 0.4122946\ttotal: 1.44s\tremaining: 1.51s\n",
      "488:\tlearn: 0.4122830\ttotal: 1.44s\tremaining: 1.5s\n",
      "489:\tlearn: 0.4122690\ttotal: 1.44s\tremaining: 1.5s\n",
      "490:\tlearn: 0.4122628\ttotal: 1.44s\tremaining: 1.5s\n",
      "491:\tlearn: 0.4122306\ttotal: 1.45s\tremaining: 1.5s\n",
      "492:\tlearn: 0.4122184\ttotal: 1.45s\tremaining: 1.49s\n",
      "493:\tlearn: 0.4121740\ttotal: 1.46s\tremaining: 1.49s\n",
      "494:\tlearn: 0.4121020\ttotal: 1.46s\tremaining: 1.49s\n",
      "495:\tlearn: 0.4120960\ttotal: 1.46s\tremaining: 1.48s\n",
      "496:\tlearn: 0.4120862\ttotal: 1.46s\tremaining: 1.48s\n",
      "497:\tlearn: 0.4119961\ttotal: 1.47s\tremaining: 1.48s\n",
      "498:\tlearn: 0.4119808\ttotal: 1.47s\tremaining: 1.48s\n",
      "499:\tlearn: 0.4119504\ttotal: 1.47s\tremaining: 1.47s\n",
      "500:\tlearn: 0.4118855\ttotal: 1.48s\tremaining: 1.47s\n",
      "501:\tlearn: 0.4118597\ttotal: 1.48s\tremaining: 1.47s\n",
      "502:\tlearn: 0.4118106\ttotal: 1.48s\tremaining: 1.47s\n",
      "503:\tlearn: 0.4118057\ttotal: 1.49s\tremaining: 1.46s\n",
      "504:\tlearn: 0.4117588\ttotal: 1.49s\tremaining: 1.46s\n",
      "505:\tlearn: 0.4117258\ttotal: 1.5s\tremaining: 1.46s\n",
      "506:\tlearn: 0.4117159\ttotal: 1.5s\tremaining: 1.46s\n",
      "507:\tlearn: 0.4117136\ttotal: 1.5s\tremaining: 1.45s\n",
      "508:\tlearn: 0.4116841\ttotal: 1.5s\tremaining: 1.45s\n",
      "509:\tlearn: 0.4116123\ttotal: 1.51s\tremaining: 1.45s\n",
      "510:\tlearn: 0.4116033\ttotal: 1.51s\tremaining: 1.45s\n",
      "511:\tlearn: 0.4115818\ttotal: 1.51s\tremaining: 1.44s\n",
      "512:\tlearn: 0.4115735\ttotal: 1.52s\tremaining: 1.44s\n",
      "513:\tlearn: 0.4115700\ttotal: 1.52s\tremaining: 1.44s\n",
      "514:\tlearn: 0.4115630\ttotal: 1.52s\tremaining: 1.44s\n",
      "515:\tlearn: 0.4115549\ttotal: 1.53s\tremaining: 1.43s\n",
      "516:\tlearn: 0.4115283\ttotal: 1.53s\tremaining: 1.43s\n",
      "517:\tlearn: 0.4114689\ttotal: 1.53s\tremaining: 1.43s\n",
      "518:\tlearn: 0.4114025\ttotal: 1.54s\tremaining: 1.43s\n",
      "519:\tlearn: 0.4113918\ttotal: 1.54s\tremaining: 1.42s\n",
      "520:\tlearn: 0.4113750\ttotal: 1.55s\tremaining: 1.42s\n",
      "521:\tlearn: 0.4113641\ttotal: 1.55s\tremaining: 1.42s\n",
      "522:\tlearn: 0.4113639\ttotal: 1.55s\tremaining: 1.42s\n",
      "523:\tlearn: 0.4113532\ttotal: 1.56s\tremaining: 1.42s\n",
      "524:\tlearn: 0.4113051\ttotal: 1.56s\tremaining: 1.41s\n",
      "525:\tlearn: 0.4112906\ttotal: 1.57s\tremaining: 1.41s\n",
      "526:\tlearn: 0.4111988\ttotal: 1.57s\tremaining: 1.41s\n",
      "527:\tlearn: 0.4111482\ttotal: 1.58s\tremaining: 1.41s\n",
      "528:\tlearn: 0.4111108\ttotal: 1.58s\tremaining: 1.41s\n",
      "529:\tlearn: 0.4110699\ttotal: 1.58s\tremaining: 1.4s\n",
      "530:\tlearn: 0.4110497\ttotal: 1.59s\tremaining: 1.4s\n",
      "531:\tlearn: 0.4110177\ttotal: 1.59s\tremaining: 1.4s\n",
      "532:\tlearn: 0.4110038\ttotal: 1.59s\tremaining: 1.39s\n",
      "533:\tlearn: 0.4109961\ttotal: 1.59s\tremaining: 1.39s\n",
      "534:\tlearn: 0.4109736\ttotal: 1.59s\tremaining: 1.39s\n",
      "535:\tlearn: 0.4109728\ttotal: 1.6s\tremaining: 1.38s\n",
      "536:\tlearn: 0.4109617\ttotal: 1.6s\tremaining: 1.38s\n",
      "537:\tlearn: 0.4109419\ttotal: 1.6s\tremaining: 1.38s\n",
      "538:\tlearn: 0.4109330\ttotal: 1.6s\tremaining: 1.37s\n",
      "539:\tlearn: 0.4109154\ttotal: 1.6s\tremaining: 1.37s\n",
      "540:\tlearn: 0.4109045\ttotal: 1.61s\tremaining: 1.36s\n",
      "541:\tlearn: 0.4108613\ttotal: 1.61s\tremaining: 1.36s\n",
      "542:\tlearn: 0.4108288\ttotal: 1.61s\tremaining: 1.35s\n",
      "543:\tlearn: 0.4108277\ttotal: 1.61s\tremaining: 1.35s\n",
      "544:\tlearn: 0.4107958\ttotal: 1.61s\tremaining: 1.35s\n",
      "545:\tlearn: 0.4107793\ttotal: 1.61s\tremaining: 1.34s\n",
      "546:\tlearn: 0.4107095\ttotal: 1.62s\tremaining: 1.34s\n",
      "547:\tlearn: 0.4106959\ttotal: 1.62s\tremaining: 1.33s\n",
      "548:\tlearn: 0.4106840\ttotal: 1.62s\tremaining: 1.33s\n",
      "549:\tlearn: 0.4106561\ttotal: 1.62s\tremaining: 1.33s\n",
      "550:\tlearn: 0.4106550\ttotal: 1.63s\tremaining: 1.32s\n",
      "551:\tlearn: 0.4106325\ttotal: 1.63s\tremaining: 1.32s\n",
      "552:\tlearn: 0.4106189\ttotal: 1.63s\tremaining: 1.32s\n",
      "553:\tlearn: 0.4106132\ttotal: 1.63s\tremaining: 1.31s\n",
      "554:\tlearn: 0.4105926\ttotal: 1.64s\tremaining: 1.31s\n",
      "555:\tlearn: 0.4105461\ttotal: 1.64s\tremaining: 1.31s\n",
      "556:\tlearn: 0.4105285\ttotal: 1.64s\tremaining: 1.3s\n",
      "557:\tlearn: 0.4104560\ttotal: 1.64s\tremaining: 1.3s\n",
      "558:\tlearn: 0.4104559\ttotal: 1.64s\tremaining: 1.29s\n",
      "559:\tlearn: 0.4104428\ttotal: 1.64s\tremaining: 1.29s\n",
      "560:\tlearn: 0.4104295\ttotal: 1.65s\tremaining: 1.29s\n",
      "561:\tlearn: 0.4104128\ttotal: 1.65s\tremaining: 1.28s\n",
      "562:\tlearn: 0.4103813\ttotal: 1.65s\tremaining: 1.28s\n",
      "563:\tlearn: 0.4103764\ttotal: 1.65s\tremaining: 1.28s\n",
      "564:\tlearn: 0.4103484\ttotal: 1.66s\tremaining: 1.27s\n",
      "565:\tlearn: 0.4103379\ttotal: 1.66s\tremaining: 1.27s\n",
      "566:\tlearn: 0.4103055\ttotal: 1.66s\tremaining: 1.27s\n",
      "567:\tlearn: 0.4102618\ttotal: 1.67s\tremaining: 1.27s\n",
      "568:\tlearn: 0.4102149\ttotal: 1.67s\tremaining: 1.26s\n",
      "569:\tlearn: 0.4101895\ttotal: 1.67s\tremaining: 1.26s\n",
      "570:\tlearn: 0.4101733\ttotal: 1.68s\tremaining: 1.26s\n",
      "571:\tlearn: 0.4101447\ttotal: 1.68s\tremaining: 1.25s\n",
      "572:\tlearn: 0.4101097\ttotal: 1.68s\tremaining: 1.25s\n",
      "573:\tlearn: 0.4100175\ttotal: 1.69s\tremaining: 1.25s\n",
      "574:\tlearn: 0.4100128\ttotal: 1.69s\tremaining: 1.25s\n",
      "575:\tlearn: 0.4099946\ttotal: 1.69s\tremaining: 1.25s\n",
      "576:\tlearn: 0.4099632\ttotal: 1.7s\tremaining: 1.24s\n",
      "577:\tlearn: 0.4099104\ttotal: 1.7s\tremaining: 1.24s\n",
      "578:\tlearn: 0.4098848\ttotal: 1.7s\tremaining: 1.24s\n",
      "579:\tlearn: 0.4098517\ttotal: 1.7s\tremaining: 1.23s\n",
      "580:\tlearn: 0.4098472\ttotal: 1.7s\tremaining: 1.23s\n",
      "581:\tlearn: 0.4098345\ttotal: 1.71s\tremaining: 1.22s\n",
      "582:\tlearn: 0.4097382\ttotal: 1.71s\tremaining: 1.22s\n",
      "583:\tlearn: 0.4097198\ttotal: 1.71s\tremaining: 1.22s\n",
      "584:\tlearn: 0.4097145\ttotal: 1.71s\tremaining: 1.22s\n",
      "585:\tlearn: 0.4097120\ttotal: 1.72s\tremaining: 1.21s\n",
      "586:\tlearn: 0.4097087\ttotal: 1.72s\tremaining: 1.21s\n",
      "587:\tlearn: 0.4097072\ttotal: 1.72s\tremaining: 1.2s\n",
      "588:\tlearn: 0.4096900\ttotal: 1.72s\tremaining: 1.2s\n",
      "589:\tlearn: 0.4096719\ttotal: 1.72s\tremaining: 1.2s\n",
      "590:\tlearn: 0.4096674\ttotal: 1.73s\tremaining: 1.19s\n",
      "591:\tlearn: 0.4096616\ttotal: 1.73s\tremaining: 1.19s\n",
      "592:\tlearn: 0.4096274\ttotal: 1.73s\tremaining: 1.19s\n",
      "593:\tlearn: 0.4096274\ttotal: 1.73s\tremaining: 1.18s\n",
      "594:\tlearn: 0.4095779\ttotal: 1.73s\tremaining: 1.18s\n",
      "595:\tlearn: 0.4094894\ttotal: 1.74s\tremaining: 1.18s\n",
      "596:\tlearn: 0.4094815\ttotal: 1.74s\tremaining: 1.17s\n",
      "597:\tlearn: 0.4094621\ttotal: 1.74s\tremaining: 1.17s\n",
      "598:\tlearn: 0.4094594\ttotal: 1.75s\tremaining: 1.17s\n",
      "599:\tlearn: 0.4094499\ttotal: 1.75s\tremaining: 1.17s\n",
      "600:\tlearn: 0.4094114\ttotal: 1.75s\tremaining: 1.16s\n",
      "601:\tlearn: 0.4093881\ttotal: 1.76s\tremaining: 1.16s\n",
      "602:\tlearn: 0.4093680\ttotal: 1.76s\tremaining: 1.16s\n",
      "603:\tlearn: 0.4093352\ttotal: 1.76s\tremaining: 1.16s\n",
      "604:\tlearn: 0.4092656\ttotal: 1.77s\tremaining: 1.15s\n",
      "605:\tlearn: 0.4091976\ttotal: 1.77s\tremaining: 1.15s\n",
      "606:\tlearn: 0.4091949\ttotal: 1.77s\tremaining: 1.15s\n",
      "607:\tlearn: 0.4091751\ttotal: 1.78s\tremaining: 1.15s\n",
      "608:\tlearn: 0.4091672\ttotal: 1.78s\tremaining: 1.14s\n",
      "609:\tlearn: 0.4091507\ttotal: 1.78s\tremaining: 1.14s\n",
      "610:\tlearn: 0.4091507\ttotal: 1.78s\tremaining: 1.14s\n",
      "611:\tlearn: 0.4091123\ttotal: 1.79s\tremaining: 1.13s\n",
      "612:\tlearn: 0.4091021\ttotal: 1.79s\tremaining: 1.13s\n",
      "613:\tlearn: 0.4090648\ttotal: 1.8s\tremaining: 1.13s\n",
      "614:\tlearn: 0.4090449\ttotal: 1.8s\tremaining: 1.13s\n",
      "615:\tlearn: 0.4090414\ttotal: 1.8s\tremaining: 1.13s\n",
      "616:\tlearn: 0.4090414\ttotal: 1.81s\tremaining: 1.12s\n",
      "617:\tlearn: 0.4090223\ttotal: 1.81s\tremaining: 1.12s\n",
      "618:\tlearn: 0.4090099\ttotal: 1.81s\tremaining: 1.11s\n",
      "619:\tlearn: 0.4090073\ttotal: 1.81s\tremaining: 1.11s\n",
      "620:\tlearn: 0.4089917\ttotal: 1.82s\tremaining: 1.11s\n",
      "621:\tlearn: 0.4089751\ttotal: 1.82s\tremaining: 1.11s\n",
      "622:\tlearn: 0.4089712\ttotal: 1.82s\tremaining: 1.1s\n",
      "623:\tlearn: 0.4089696\ttotal: 1.82s\tremaining: 1.1s\n",
      "624:\tlearn: 0.4089122\ttotal: 1.83s\tremaining: 1.1s\n",
      "625:\tlearn: 0.4088975\ttotal: 1.83s\tremaining: 1.09s\n",
      "626:\tlearn: 0.4088958\ttotal: 1.83s\tremaining: 1.09s\n",
      "627:\tlearn: 0.4088927\ttotal: 1.83s\tremaining: 1.08s\n",
      "628:\tlearn: 0.4088480\ttotal: 1.83s\tremaining: 1.08s\n",
      "629:\tlearn: 0.4087973\ttotal: 1.84s\tremaining: 1.08s\n",
      "630:\tlearn: 0.4087469\ttotal: 1.84s\tremaining: 1.07s\n",
      "631:\tlearn: 0.4087456\ttotal: 1.84s\tremaining: 1.07s\n",
      "632:\tlearn: 0.4087364\ttotal: 1.84s\tremaining: 1.07s\n",
      "633:\tlearn: 0.4087281\ttotal: 1.84s\tremaining: 1.06s\n",
      "634:\tlearn: 0.4087178\ttotal: 1.85s\tremaining: 1.06s\n",
      "635:\tlearn: 0.4087129\ttotal: 1.85s\tremaining: 1.06s\n",
      "636:\tlearn: 0.4086668\ttotal: 1.85s\tremaining: 1.05s\n",
      "637:\tlearn: 0.4086203\ttotal: 1.85s\tremaining: 1.05s\n",
      "638:\tlearn: 0.4085926\ttotal: 1.85s\tremaining: 1.05s\n",
      "639:\tlearn: 0.4085540\ttotal: 1.86s\tremaining: 1.04s\n",
      "640:\tlearn: 0.4085333\ttotal: 1.86s\tremaining: 1.04s\n",
      "641:\tlearn: 0.4085240\ttotal: 1.86s\tremaining: 1.04s\n",
      "642:\tlearn: 0.4084580\ttotal: 1.86s\tremaining: 1.03s\n",
      "643:\tlearn: 0.4084572\ttotal: 1.86s\tremaining: 1.03s\n",
      "644:\tlearn: 0.4084416\ttotal: 1.87s\tremaining: 1.03s\n",
      "645:\tlearn: 0.4084416\ttotal: 1.87s\tremaining: 1.02s\n",
      "646:\tlearn: 0.4084372\ttotal: 1.87s\tremaining: 1.02s\n",
      "647:\tlearn: 0.4084281\ttotal: 1.87s\tremaining: 1.02s\n",
      "648:\tlearn: 0.4084233\ttotal: 1.87s\tremaining: 1.01s\n",
      "649:\tlearn: 0.4084193\ttotal: 1.88s\tremaining: 1.01s\n",
      "650:\tlearn: 0.4084065\ttotal: 1.88s\tremaining: 1.01s\n",
      "651:\tlearn: 0.4083675\ttotal: 1.88s\tremaining: 1s\n",
      "652:\tlearn: 0.4083335\ttotal: 1.88s\tremaining: 1s\n",
      "653:\tlearn: 0.4083219\ttotal: 1.89s\tremaining: 998ms\n",
      "654:\tlearn: 0.4082966\ttotal: 1.89s\tremaining: 994ms\n",
      "655:\tlearn: 0.4082890\ttotal: 1.89s\tremaining: 992ms\n",
      "656:\tlearn: 0.4082811\ttotal: 1.89s\tremaining: 989ms\n",
      "657:\tlearn: 0.4082237\ttotal: 1.9s\tremaining: 986ms\n",
      "658:\tlearn: 0.4081705\ttotal: 1.9s\tremaining: 983ms\n",
      "659:\tlearn: 0.4081668\ttotal: 1.9s\tremaining: 980ms\n",
      "660:\tlearn: 0.4081044\ttotal: 1.91s\tremaining: 977ms\n",
      "661:\tlearn: 0.4081027\ttotal: 1.91s\tremaining: 974ms\n",
      "662:\tlearn: 0.4080675\ttotal: 1.91s\tremaining: 971ms\n",
      "663:\tlearn: 0.4080450\ttotal: 1.91s\tremaining: 967ms\n",
      "664:\tlearn: 0.4080289\ttotal: 1.91s\tremaining: 964ms\n",
      "665:\tlearn: 0.4079981\ttotal: 1.92s\tremaining: 962ms\n",
      "666:\tlearn: 0.4079845\ttotal: 1.92s\tremaining: 959ms\n",
      "667:\tlearn: 0.4079571\ttotal: 1.92s\tremaining: 956ms\n",
      "668:\tlearn: 0.4079403\ttotal: 1.93s\tremaining: 953ms\n",
      "669:\tlearn: 0.4079381\ttotal: 1.93s\tremaining: 950ms\n",
      "670:\tlearn: 0.4079381\ttotal: 1.93s\tremaining: 947ms\n",
      "671:\tlearn: 0.4078777\ttotal: 1.93s\tremaining: 944ms\n",
      "672:\tlearn: 0.4078777\ttotal: 1.93s\tremaining: 940ms\n",
      "673:\tlearn: 0.4078563\ttotal: 1.94s\tremaining: 937ms\n",
      "674:\tlearn: 0.4078173\ttotal: 1.94s\tremaining: 934ms\n",
      "675:\tlearn: 0.4078173\ttotal: 1.94s\tremaining: 931ms\n",
      "676:\tlearn: 0.4078166\ttotal: 1.94s\tremaining: 927ms\n",
      "677:\tlearn: 0.4078144\ttotal: 1.94s\tremaining: 923ms\n",
      "678:\tlearn: 0.4078045\ttotal: 1.95s\tremaining: 920ms\n",
      "679:\tlearn: 0.4077907\ttotal: 1.95s\tremaining: 917ms\n",
      "680:\tlearn: 0.4077380\ttotal: 1.95s\tremaining: 914ms\n",
      "681:\tlearn: 0.4077342\ttotal: 1.95s\tremaining: 911ms\n",
      "682:\tlearn: 0.4076829\ttotal: 1.96s\tremaining: 908ms\n",
      "683:\tlearn: 0.4076822\ttotal: 1.96s\tremaining: 905ms\n",
      "684:\tlearn: 0.4076818\ttotal: 1.96s\tremaining: 901ms\n",
      "685:\tlearn: 0.4076605\ttotal: 1.96s\tremaining: 898ms\n",
      "686:\tlearn: 0.4076384\ttotal: 1.97s\tremaining: 896ms\n",
      "687:\tlearn: 0.4076034\ttotal: 1.97s\tremaining: 893ms\n",
      "688:\tlearn: 0.4075561\ttotal: 1.97s\tremaining: 890ms\n",
      "689:\tlearn: 0.4075027\ttotal: 1.97s\tremaining: 887ms\n",
      "690:\tlearn: 0.4074661\ttotal: 1.98s\tremaining: 883ms\n",
      "691:\tlearn: 0.4073912\ttotal: 1.98s\tremaining: 881ms\n",
      "692:\tlearn: 0.4073399\ttotal: 1.98s\tremaining: 878ms\n",
      "693:\tlearn: 0.4073102\ttotal: 1.98s\tremaining: 874ms\n",
      "694:\tlearn: 0.4072771\ttotal: 1.98s\tremaining: 871ms\n",
      "695:\tlearn: 0.4072583\ttotal: 1.99s\tremaining: 868ms\n",
      "696:\tlearn: 0.4072360\ttotal: 1.99s\tremaining: 864ms\n",
      "697:\tlearn: 0.4072323\ttotal: 1.99s\tremaining: 861ms\n",
      "698:\tlearn: 0.4072116\ttotal: 1.99s\tremaining: 858ms\n",
      "699:\tlearn: 0.4071696\ttotal: 1.99s\tremaining: 855ms\n",
      "700:\tlearn: 0.4071339\ttotal: 2s\tremaining: 852ms\n",
      "701:\tlearn: 0.4071020\ttotal: 2s\tremaining: 849ms\n",
      "702:\tlearn: 0.4070994\ttotal: 2s\tremaining: 845ms\n",
      "703:\tlearn: 0.4070653\ttotal: 2s\tremaining: 842ms\n",
      "704:\tlearn: 0.4069917\ttotal: 2s\tremaining: 839ms\n",
      "705:\tlearn: 0.4069908\ttotal: 2.01s\tremaining: 836ms\n",
      "706:\tlearn: 0.4069492\ttotal: 2.01s\tremaining: 832ms\n",
      "707:\tlearn: 0.4069315\ttotal: 2.01s\tremaining: 830ms\n",
      "708:\tlearn: 0.4069302\ttotal: 2.01s\tremaining: 826ms\n",
      "709:\tlearn: 0.4069285\ttotal: 2.02s\tremaining: 823ms\n",
      "710:\tlearn: 0.4069232\ttotal: 2.02s\tremaining: 820ms\n",
      "711:\tlearn: 0.4069188\ttotal: 2.02s\tremaining: 817ms\n",
      "712:\tlearn: 0.4068714\ttotal: 2.02s\tremaining: 814ms\n",
      "713:\tlearn: 0.4068369\ttotal: 2.02s\tremaining: 811ms\n",
      "714:\tlearn: 0.4068243\ttotal: 2.03s\tremaining: 808ms\n",
      "715:\tlearn: 0.4067723\ttotal: 2.03s\tremaining: 805ms\n",
      "716:\tlearn: 0.4067688\ttotal: 2.03s\tremaining: 802ms\n",
      "717:\tlearn: 0.4067373\ttotal: 2.03s\tremaining: 798ms\n",
      "718:\tlearn: 0.4067086\ttotal: 2.04s\tremaining: 795ms\n",
      "719:\tlearn: 0.4067013\ttotal: 2.04s\tremaining: 792ms\n",
      "720:\tlearn: 0.4066852\ttotal: 2.04s\tremaining: 789ms\n",
      "721:\tlearn: 0.4066786\ttotal: 2.04s\tremaining: 786ms\n",
      "722:\tlearn: 0.4066365\ttotal: 2.04s\tremaining: 783ms\n",
      "723:\tlearn: 0.4065950\ttotal: 2.05s\tremaining: 780ms\n",
      "724:\tlearn: 0.4065781\ttotal: 2.05s\tremaining: 777ms\n",
      "725:\tlearn: 0.4065568\ttotal: 2.05s\tremaining: 774ms\n",
      "726:\tlearn: 0.4065400\ttotal: 2.05s\tremaining: 771ms\n",
      "727:\tlearn: 0.4065248\ttotal: 2.06s\tremaining: 768ms\n",
      "728:\tlearn: 0.4065158\ttotal: 2.06s\tremaining: 766ms\n",
      "729:\tlearn: 0.4064756\ttotal: 2.06s\tremaining: 763ms\n",
      "730:\tlearn: 0.4064696\ttotal: 2.06s\tremaining: 760ms\n",
      "731:\tlearn: 0.4064692\ttotal: 2.07s\tremaining: 757ms\n",
      "732:\tlearn: 0.4064493\ttotal: 2.07s\tremaining: 755ms\n",
      "733:\tlearn: 0.4064341\ttotal: 2.08s\tremaining: 752ms\n",
      "734:\tlearn: 0.4064326\ttotal: 2.08s\tremaining: 749ms\n",
      "735:\tlearn: 0.4064016\ttotal: 2.08s\tremaining: 747ms\n",
      "736:\tlearn: 0.4063783\ttotal: 2.08s\tremaining: 744ms\n",
      "737:\tlearn: 0.4063763\ttotal: 2.09s\tremaining: 741ms\n",
      "738:\tlearn: 0.4063662\ttotal: 2.09s\tremaining: 738ms\n",
      "739:\tlearn: 0.4063608\ttotal: 2.09s\tremaining: 736ms\n",
      "740:\tlearn: 0.4062940\ttotal: 2.1s\tremaining: 733ms\n",
      "741:\tlearn: 0.4062850\ttotal: 2.1s\tremaining: 730ms\n",
      "742:\tlearn: 0.4062678\ttotal: 2.1s\tremaining: 728ms\n",
      "743:\tlearn: 0.4061967\ttotal: 2.11s\tremaining: 725ms\n",
      "744:\tlearn: 0.4061534\ttotal: 2.11s\tremaining: 722ms\n",
      "745:\tlearn: 0.4061465\ttotal: 2.11s\tremaining: 719ms\n",
      "746:\tlearn: 0.4061225\ttotal: 2.12s\tremaining: 716ms\n",
      "747:\tlearn: 0.4060837\ttotal: 2.12s\tremaining: 714ms\n",
      "748:\tlearn: 0.4060653\ttotal: 2.12s\tremaining: 712ms\n",
      "749:\tlearn: 0.4060327\ttotal: 2.13s\tremaining: 709ms\n",
      "750:\tlearn: 0.4060025\ttotal: 2.13s\tremaining: 706ms\n",
      "751:\tlearn: 0.4059885\ttotal: 2.13s\tremaining: 704ms\n",
      "752:\tlearn: 0.4059413\ttotal: 2.14s\tremaining: 701ms\n",
      "753:\tlearn: 0.4059384\ttotal: 2.14s\tremaining: 698ms\n",
      "754:\tlearn: 0.4058811\ttotal: 2.14s\tremaining: 695ms\n",
      "755:\tlearn: 0.4058584\ttotal: 2.15s\tremaining: 693ms\n",
      "756:\tlearn: 0.4058464\ttotal: 2.15s\tremaining: 690ms\n",
      "757:\tlearn: 0.4058362\ttotal: 2.15s\tremaining: 688ms\n",
      "758:\tlearn: 0.4058362\ttotal: 2.16s\tremaining: 685ms\n",
      "759:\tlearn: 0.4058317\ttotal: 2.16s\tremaining: 683ms\n",
      "760:\tlearn: 0.4058311\ttotal: 2.16s\tremaining: 680ms\n",
      "761:\tlearn: 0.4057937\ttotal: 2.17s\tremaining: 677ms\n",
      "762:\tlearn: 0.4057840\ttotal: 2.17s\tremaining: 674ms\n",
      "763:\tlearn: 0.4057524\ttotal: 2.17s\tremaining: 672ms\n",
      "764:\tlearn: 0.4057285\ttotal: 2.18s\tremaining: 669ms\n",
      "765:\tlearn: 0.4056762\ttotal: 2.18s\tremaining: 666ms\n",
      "766:\tlearn: 0.4056624\ttotal: 2.18s\tremaining: 664ms\n",
      "767:\tlearn: 0.4056075\ttotal: 2.19s\tremaining: 661ms\n",
      "768:\tlearn: 0.4055991\ttotal: 2.19s\tremaining: 657ms\n",
      "769:\tlearn: 0.4055652\ttotal: 2.19s\tremaining: 654ms\n",
      "770:\tlearn: 0.4055446\ttotal: 2.19s\tremaining: 651ms\n",
      "771:\tlearn: 0.4055308\ttotal: 2.2s\tremaining: 649ms\n",
      "772:\tlearn: 0.4055201\ttotal: 2.2s\tremaining: 646ms\n",
      "773:\tlearn: 0.4054755\ttotal: 2.2s\tremaining: 643ms\n",
      "774:\tlearn: 0.4054054\ttotal: 2.2s\tremaining: 640ms\n",
      "775:\tlearn: 0.4053537\ttotal: 2.21s\tremaining: 637ms\n",
      "776:\tlearn: 0.4053435\ttotal: 2.21s\tremaining: 634ms\n",
      "777:\tlearn: 0.4053285\ttotal: 2.21s\tremaining: 631ms\n",
      "778:\tlearn: 0.4053096\ttotal: 2.21s\tremaining: 628ms\n",
      "779:\tlearn: 0.4052935\ttotal: 2.21s\tremaining: 625ms\n",
      "780:\tlearn: 0.4052878\ttotal: 2.22s\tremaining: 622ms\n",
      "781:\tlearn: 0.4052249\ttotal: 2.22s\tremaining: 619ms\n",
      "782:\tlearn: 0.4051816\ttotal: 2.22s\tremaining: 616ms\n",
      "783:\tlearn: 0.4051640\ttotal: 2.22s\tremaining: 613ms\n",
      "784:\tlearn: 0.4051152\ttotal: 2.23s\tremaining: 610ms\n",
      "785:\tlearn: 0.4050481\ttotal: 2.23s\tremaining: 607ms\n",
      "786:\tlearn: 0.4050413\ttotal: 2.23s\tremaining: 604ms\n",
      "787:\tlearn: 0.4049877\ttotal: 2.23s\tremaining: 601ms\n",
      "788:\tlearn: 0.4049482\ttotal: 2.23s\tremaining: 598ms\n",
      "789:\tlearn: 0.4049360\ttotal: 2.24s\tremaining: 595ms\n",
      "790:\tlearn: 0.4049284\ttotal: 2.24s\tremaining: 592ms\n",
      "791:\tlearn: 0.4048803\ttotal: 2.24s\tremaining: 589ms\n",
      "792:\tlearn: 0.4048157\ttotal: 2.24s\tremaining: 586ms\n",
      "793:\tlearn: 0.4047522\ttotal: 2.25s\tremaining: 583ms\n",
      "794:\tlearn: 0.4047321\ttotal: 2.25s\tremaining: 580ms\n",
      "795:\tlearn: 0.4046678\ttotal: 2.25s\tremaining: 577ms\n",
      "796:\tlearn: 0.4046355\ttotal: 2.25s\tremaining: 574ms\n",
      "797:\tlearn: 0.4045974\ttotal: 2.26s\tremaining: 571ms\n",
      "798:\tlearn: 0.4045887\ttotal: 2.26s\tremaining: 569ms\n",
      "799:\tlearn: 0.4045785\ttotal: 2.26s\tremaining: 566ms\n",
      "800:\tlearn: 0.4045175\ttotal: 2.26s\tremaining: 563ms\n",
      "801:\tlearn: 0.4045089\ttotal: 2.27s\tremaining: 560ms\n",
      "802:\tlearn: 0.4044855\ttotal: 2.27s\tremaining: 557ms\n",
      "803:\tlearn: 0.4044646\ttotal: 2.27s\tremaining: 554ms\n",
      "804:\tlearn: 0.4044442\ttotal: 2.27s\tremaining: 551ms\n",
      "805:\tlearn: 0.4044230\ttotal: 2.27s\tremaining: 548ms\n",
      "806:\tlearn: 0.4044062\ttotal: 2.28s\tremaining: 545ms\n",
      "807:\tlearn: 0.4043898\ttotal: 2.28s\tremaining: 542ms\n",
      "808:\tlearn: 0.4043279\ttotal: 2.28s\tremaining: 539ms\n",
      "809:\tlearn: 0.4043128\ttotal: 2.28s\tremaining: 536ms\n",
      "810:\tlearn: 0.4042791\ttotal: 2.29s\tremaining: 533ms\n",
      "811:\tlearn: 0.4042754\ttotal: 2.29s\tremaining: 530ms\n",
      "812:\tlearn: 0.4042574\ttotal: 2.29s\tremaining: 527ms\n",
      "813:\tlearn: 0.4042311\ttotal: 2.29s\tremaining: 524ms\n",
      "814:\tlearn: 0.4041939\ttotal: 2.3s\tremaining: 521ms\n",
      "815:\tlearn: 0.4041628\ttotal: 2.3s\tremaining: 518ms\n",
      "816:\tlearn: 0.4041182\ttotal: 2.3s\tremaining: 515ms\n",
      "817:\tlearn: 0.4040590\ttotal: 2.3s\tremaining: 512ms\n",
      "818:\tlearn: 0.4040450\ttotal: 2.3s\tremaining: 509ms\n",
      "819:\tlearn: 0.4040174\ttotal: 2.31s\tremaining: 506ms\n",
      "820:\tlearn: 0.4039869\ttotal: 2.31s\tremaining: 503ms\n",
      "821:\tlearn: 0.4039290\ttotal: 2.31s\tremaining: 501ms\n",
      "822:\tlearn: 0.4039129\ttotal: 2.31s\tremaining: 498ms\n",
      "823:\tlearn: 0.4039083\ttotal: 2.32s\tremaining: 495ms\n",
      "824:\tlearn: 0.4038492\ttotal: 2.32s\tremaining: 492ms\n",
      "825:\tlearn: 0.4038430\ttotal: 2.32s\tremaining: 489ms\n",
      "826:\tlearn: 0.4038137\ttotal: 2.32s\tremaining: 486ms\n",
      "827:\tlearn: 0.4038000\ttotal: 2.33s\tremaining: 483ms\n",
      "828:\tlearn: 0.4037530\ttotal: 2.33s\tremaining: 480ms\n",
      "829:\tlearn: 0.4037321\ttotal: 2.33s\tremaining: 477ms\n",
      "830:\tlearn: 0.4036963\ttotal: 2.33s\tremaining: 474ms\n",
      "831:\tlearn: 0.4036864\ttotal: 2.33s\tremaining: 471ms\n",
      "832:\tlearn: 0.4036719\ttotal: 2.34s\tremaining: 468ms\n",
      "833:\tlearn: 0.4036157\ttotal: 2.34s\tremaining: 465ms\n",
      "834:\tlearn: 0.4035987\ttotal: 2.34s\tremaining: 463ms\n",
      "835:\tlearn: 0.4035833\ttotal: 2.34s\tremaining: 460ms\n",
      "836:\tlearn: 0.4035811\ttotal: 2.34s\tremaining: 457ms\n",
      "837:\tlearn: 0.4035759\ttotal: 2.35s\tremaining: 454ms\n",
      "838:\tlearn: 0.4035231\ttotal: 2.35s\tremaining: 451ms\n",
      "839:\tlearn: 0.4034785\ttotal: 2.35s\tremaining: 448ms\n",
      "840:\tlearn: 0.4034635\ttotal: 2.35s\tremaining: 445ms\n",
      "841:\tlearn: 0.4034435\ttotal: 2.36s\tremaining: 442ms\n",
      "842:\tlearn: 0.4034265\ttotal: 2.36s\tremaining: 439ms\n",
      "843:\tlearn: 0.4033959\ttotal: 2.36s\tremaining: 437ms\n",
      "844:\tlearn: 0.4033757\ttotal: 2.36s\tremaining: 434ms\n",
      "845:\tlearn: 0.4033723\ttotal: 2.37s\tremaining: 431ms\n",
      "846:\tlearn: 0.4033474\ttotal: 2.37s\tremaining: 428ms\n",
      "847:\tlearn: 0.4033408\ttotal: 2.37s\tremaining: 425ms\n",
      "848:\tlearn: 0.4032997\ttotal: 2.37s\tremaining: 422ms\n",
      "849:\tlearn: 0.4032610\ttotal: 2.37s\tremaining: 419ms\n",
      "850:\tlearn: 0.4032469\ttotal: 2.38s\tremaining: 416ms\n",
      "851:\tlearn: 0.4032301\ttotal: 2.38s\tremaining: 413ms\n",
      "852:\tlearn: 0.4032134\ttotal: 2.38s\tremaining: 410ms\n",
      "853:\tlearn: 0.4031644\ttotal: 2.38s\tremaining: 407ms\n",
      "854:\tlearn: 0.4031410\ttotal: 2.38s\tremaining: 405ms\n",
      "855:\tlearn: 0.4031056\ttotal: 2.39s\tremaining: 402ms\n",
      "856:\tlearn: 0.4030897\ttotal: 2.39s\tremaining: 399ms\n",
      "857:\tlearn: 0.4030679\ttotal: 2.39s\tremaining: 396ms\n",
      "858:\tlearn: 0.4030288\ttotal: 2.39s\tremaining: 393ms\n",
      "859:\tlearn: 0.4030254\ttotal: 2.4s\tremaining: 390ms\n",
      "860:\tlearn: 0.4030110\ttotal: 2.4s\tremaining: 387ms\n",
      "861:\tlearn: 0.4029763\ttotal: 2.4s\tremaining: 384ms\n",
      "862:\tlearn: 0.4029625\ttotal: 2.4s\tremaining: 382ms\n",
      "863:\tlearn: 0.4029387\ttotal: 2.4s\tremaining: 379ms\n",
      "864:\tlearn: 0.4029245\ttotal: 2.41s\tremaining: 376ms\n",
      "865:\tlearn: 0.4028955\ttotal: 2.41s\tremaining: 373ms\n",
      "866:\tlearn: 0.4028816\ttotal: 2.41s\tremaining: 370ms\n",
      "867:\tlearn: 0.4028666\ttotal: 2.41s\tremaining: 367ms\n",
      "868:\tlearn: 0.4028552\ttotal: 2.42s\tremaining: 364ms\n",
      "869:\tlearn: 0.4028435\ttotal: 2.42s\tremaining: 362ms\n",
      "870:\tlearn: 0.4028374\ttotal: 2.42s\tremaining: 359ms\n",
      "871:\tlearn: 0.4028167\ttotal: 2.42s\tremaining: 356ms\n",
      "872:\tlearn: 0.4027764\ttotal: 2.43s\tremaining: 353ms\n",
      "873:\tlearn: 0.4027613\ttotal: 2.43s\tremaining: 350ms\n",
      "874:\tlearn: 0.4027450\ttotal: 2.43s\tremaining: 347ms\n",
      "875:\tlearn: 0.4026978\ttotal: 2.43s\tremaining: 345ms\n",
      "876:\tlearn: 0.4026616\ttotal: 2.44s\tremaining: 342ms\n",
      "877:\tlearn: 0.4026552\ttotal: 2.44s\tremaining: 339ms\n",
      "878:\tlearn: 0.4026408\ttotal: 2.44s\tremaining: 336ms\n",
      "879:\tlearn: 0.4026079\ttotal: 2.44s\tremaining: 333ms\n",
      "880:\tlearn: 0.4025935\ttotal: 2.44s\tremaining: 330ms\n",
      "881:\tlearn: 0.4025566\ttotal: 2.45s\tremaining: 327ms\n",
      "882:\tlearn: 0.4025386\ttotal: 2.45s\tremaining: 325ms\n",
      "883:\tlearn: 0.4025245\ttotal: 2.45s\tremaining: 322ms\n",
      "884:\tlearn: 0.4024978\ttotal: 2.45s\tremaining: 319ms\n",
      "885:\tlearn: 0.4024713\ttotal: 2.46s\tremaining: 316ms\n",
      "886:\tlearn: 0.4024277\ttotal: 2.46s\tremaining: 313ms\n",
      "887:\tlearn: 0.4023964\ttotal: 2.46s\tremaining: 310ms\n",
      "888:\tlearn: 0.4023905\ttotal: 2.46s\tremaining: 308ms\n",
      "889:\tlearn: 0.4023703\ttotal: 2.47s\tremaining: 305ms\n",
      "890:\tlearn: 0.4023469\ttotal: 2.47s\tremaining: 302ms\n",
      "891:\tlearn: 0.4023326\ttotal: 2.47s\tremaining: 299ms\n",
      "892:\tlearn: 0.4023163\ttotal: 2.47s\tremaining: 296ms\n",
      "893:\tlearn: 0.4023012\ttotal: 2.48s\tremaining: 294ms\n",
      "894:\tlearn: 0.4022766\ttotal: 2.48s\tremaining: 291ms\n",
      "895:\tlearn: 0.4022544\ttotal: 2.48s\tremaining: 288ms\n",
      "896:\tlearn: 0.4022421\ttotal: 2.48s\tremaining: 285ms\n",
      "897:\tlearn: 0.4022236\ttotal: 2.48s\tremaining: 282ms\n",
      "898:\tlearn: 0.4022021\ttotal: 2.49s\tremaining: 280ms\n",
      "899:\tlearn: 0.4021803\ttotal: 2.49s\tremaining: 277ms\n",
      "900:\tlearn: 0.4021672\ttotal: 2.49s\tremaining: 274ms\n",
      "901:\tlearn: 0.4021404\ttotal: 2.49s\tremaining: 271ms\n",
      "902:\tlearn: 0.4021398\ttotal: 2.5s\tremaining: 268ms\n",
      "903:\tlearn: 0.4021184\ttotal: 2.5s\tremaining: 265ms\n",
      "904:\tlearn: 0.4021099\ttotal: 2.5s\tremaining: 262ms\n",
      "905:\tlearn: 0.4021027\ttotal: 2.5s\tremaining: 260ms\n",
      "906:\tlearn: 0.4020659\ttotal: 2.5s\tremaining: 257ms\n",
      "907:\tlearn: 0.4020148\ttotal: 2.51s\tremaining: 254ms\n",
      "908:\tlearn: 0.4019880\ttotal: 2.51s\tremaining: 251ms\n",
      "909:\tlearn: 0.4019859\ttotal: 2.51s\tremaining: 248ms\n",
      "910:\tlearn: 0.4019722\ttotal: 2.51s\tremaining: 245ms\n",
      "911:\tlearn: 0.4019559\ttotal: 2.51s\tremaining: 243ms\n",
      "912:\tlearn: 0.4019429\ttotal: 2.52s\tremaining: 240ms\n",
      "913:\tlearn: 0.4019061\ttotal: 2.52s\tremaining: 237ms\n",
      "914:\tlearn: 0.4018793\ttotal: 2.52s\tremaining: 234ms\n",
      "915:\tlearn: 0.4018685\ttotal: 2.52s\tremaining: 231ms\n",
      "916:\tlearn: 0.4018560\ttotal: 2.52s\tremaining: 229ms\n",
      "917:\tlearn: 0.4018301\ttotal: 2.53s\tremaining: 226ms\n",
      "918:\tlearn: 0.4018269\ttotal: 2.53s\tremaining: 223ms\n",
      "919:\tlearn: 0.4018151\ttotal: 2.53s\tremaining: 220ms\n",
      "920:\tlearn: 0.4017761\ttotal: 2.53s\tremaining: 217ms\n",
      "921:\tlearn: 0.4017300\ttotal: 2.54s\tremaining: 214ms\n",
      "922:\tlearn: 0.4017193\ttotal: 2.54s\tremaining: 212ms\n",
      "923:\tlearn: 0.4017069\ttotal: 2.54s\tremaining: 209ms\n",
      "924:\tlearn: 0.4016956\ttotal: 2.54s\tremaining: 206ms\n",
      "925:\tlearn: 0.4016671\ttotal: 2.54s\tremaining: 203ms\n",
      "926:\tlearn: 0.4016559\ttotal: 2.55s\tremaining: 201ms\n",
      "927:\tlearn: 0.4016492\ttotal: 2.55s\tremaining: 198ms\n",
      "928:\tlearn: 0.4016378\ttotal: 2.55s\tremaining: 195ms\n",
      "929:\tlearn: 0.4016273\ttotal: 2.56s\tremaining: 192ms\n",
      "930:\tlearn: 0.4016225\ttotal: 2.56s\tremaining: 190ms\n",
      "931:\tlearn: 0.4016109\ttotal: 2.56s\tremaining: 187ms\n",
      "932:\tlearn: 0.4015869\ttotal: 2.56s\tremaining: 184ms\n",
      "933:\tlearn: 0.4015748\ttotal: 2.57s\tremaining: 181ms\n",
      "934:\tlearn: 0.4015631\ttotal: 2.57s\tremaining: 179ms\n",
      "935:\tlearn: 0.4015354\ttotal: 2.57s\tremaining: 176ms\n",
      "936:\tlearn: 0.4015251\ttotal: 2.57s\tremaining: 173ms\n",
      "937:\tlearn: 0.4014760\ttotal: 2.58s\tremaining: 170ms\n",
      "938:\tlearn: 0.4014449\ttotal: 2.58s\tremaining: 168ms\n",
      "939:\tlearn: 0.4014420\ttotal: 2.58s\tremaining: 165ms\n",
      "940:\tlearn: 0.4014315\ttotal: 2.59s\tremaining: 162ms\n",
      "941:\tlearn: 0.4013877\ttotal: 2.59s\tremaining: 160ms\n",
      "942:\tlearn: 0.4013447\ttotal: 2.59s\tremaining: 157ms\n",
      "943:\tlearn: 0.4013342\ttotal: 2.6s\tremaining: 154ms\n",
      "944:\tlearn: 0.4013136\ttotal: 2.6s\tremaining: 151ms\n",
      "945:\tlearn: 0.4013033\ttotal: 2.6s\tremaining: 149ms\n",
      "946:\tlearn: 0.4012844\ttotal: 2.6s\tremaining: 146ms\n",
      "947:\tlearn: 0.4012720\ttotal: 2.61s\tremaining: 143ms\n",
      "948:\tlearn: 0.4012479\ttotal: 2.61s\tremaining: 140ms\n",
      "949:\tlearn: 0.4012137\ttotal: 2.62s\tremaining: 138ms\n",
      "950:\tlearn: 0.4011808\ttotal: 2.62s\tremaining: 135ms\n",
      "951:\tlearn: 0.4011513\ttotal: 2.62s\tremaining: 132ms\n",
      "952:\tlearn: 0.4011180\ttotal: 2.62s\tremaining: 129ms\n",
      "953:\tlearn: 0.4011079\ttotal: 2.63s\tremaining: 127ms\n",
      "954:\tlearn: 0.4010893\ttotal: 2.63s\tremaining: 124ms\n",
      "955:\tlearn: 0.4010686\ttotal: 2.63s\tremaining: 121ms\n",
      "956:\tlearn: 0.4010432\ttotal: 2.63s\tremaining: 118ms\n",
      "957:\tlearn: 0.4010144\ttotal: 2.64s\tremaining: 116ms\n",
      "958:\tlearn: 0.4009837\ttotal: 2.64s\tremaining: 113ms\n",
      "959:\tlearn: 0.4009592\ttotal: 2.65s\tremaining: 110ms\n",
      "960:\tlearn: 0.4009363\ttotal: 2.65s\tremaining: 107ms\n",
      "961:\tlearn: 0.4009283\ttotal: 2.65s\tremaining: 105ms\n",
      "962:\tlearn: 0.4009047\ttotal: 2.65s\tremaining: 102ms\n",
      "963:\tlearn: 0.4008873\ttotal: 2.66s\tremaining: 99.2ms\n",
      "964:\tlearn: 0.4008644\ttotal: 2.66s\tremaining: 96.5ms\n",
      "965:\tlearn: 0.4008300\ttotal: 2.66s\tremaining: 93.7ms\n",
      "966:\tlearn: 0.4008193\ttotal: 2.67s\tremaining: 91ms\n",
      "967:\tlearn: 0.4008007\ttotal: 2.67s\tremaining: 88.2ms\n",
      "968:\tlearn: 0.4007910\ttotal: 2.67s\tremaining: 85.5ms\n",
      "969:\tlearn: 0.4007808\ttotal: 2.67s\tremaining: 82.7ms\n",
      "970:\tlearn: 0.4007717\ttotal: 2.68s\tremaining: 80ms\n",
      "971:\tlearn: 0.4007532\ttotal: 2.68s\tremaining: 77.2ms\n",
      "972:\tlearn: 0.4007428\ttotal: 2.68s\tremaining: 74.5ms\n",
      "973:\tlearn: 0.4007303\ttotal: 2.69s\tremaining: 71.7ms\n",
      "974:\tlearn: 0.4007200\ttotal: 2.69s\tremaining: 69ms\n",
      "975:\tlearn: 0.4007099\ttotal: 2.69s\tremaining: 66.2ms\n",
      "976:\tlearn: 0.4006780\ttotal: 2.69s\tremaining: 63.5ms\n",
      "977:\tlearn: 0.4006590\ttotal: 2.7s\tremaining: 60.7ms\n",
      "978:\tlearn: 0.4006496\ttotal: 2.7s\tremaining: 57.9ms\n",
      "979:\tlearn: 0.4006397\ttotal: 2.7s\tremaining: 55.2ms\n",
      "980:\tlearn: 0.4006202\ttotal: 2.71s\tremaining: 52.4ms\n",
      "981:\tlearn: 0.4006103\ttotal: 2.71s\tremaining: 49.7ms\n",
      "982:\tlearn: 0.4006024\ttotal: 2.71s\tremaining: 46.9ms\n",
      "983:\tlearn: 0.4005619\ttotal: 2.72s\tremaining: 44.2ms\n",
      "984:\tlearn: 0.4005529\ttotal: 2.72s\tremaining: 41.4ms\n",
      "985:\tlearn: 0.4005374\ttotal: 2.72s\tremaining: 38.7ms\n",
      "986:\tlearn: 0.4005278\ttotal: 2.73s\tremaining: 35.9ms\n",
      "987:\tlearn: 0.4005247\ttotal: 2.73s\tremaining: 33.1ms\n",
      "988:\tlearn: 0.4005121\ttotal: 2.73s\tremaining: 30.4ms\n",
      "989:\tlearn: 0.4004818\ttotal: 2.74s\tremaining: 27.7ms\n",
      "990:\tlearn: 0.4004606\ttotal: 2.74s\tremaining: 24.9ms\n",
      "991:\tlearn: 0.4004328\ttotal: 2.74s\tremaining: 22.1ms\n",
      "992:\tlearn: 0.4004252\ttotal: 2.75s\tremaining: 19.4ms\n",
      "993:\tlearn: 0.4004151\ttotal: 2.75s\tremaining: 16.6ms\n",
      "994:\tlearn: 0.4004110\ttotal: 2.76s\tremaining: 13.9ms\n",
      "995:\tlearn: 0.4004027\ttotal: 2.76s\tremaining: 11.1ms\n",
      "996:\tlearn: 0.4003795\ttotal: 2.76s\tremaining: 8.32ms\n",
      "997:\tlearn: 0.4003596\ttotal: 2.77s\tremaining: 5.55ms\n",
      "998:\tlearn: 0.4003323\ttotal: 2.77s\tremaining: 2.77ms\n",
      "999:\tlearn: 0.4003202\ttotal: 2.77s\tremaining: 0us\n"
     ]
    },
    {
     "data": {
      "text/plain": [
       "<catboost.core.CatBoostClassifier at 0x18c3cd78588>"
      ]
     },
     "execution_count": 95,
     "metadata": {},
     "output_type": "execute_result"
    }
   ],
   "source": [
    "cat.fit(trainX, trainy)"
   ]
  },
  {
   "cell_type": "code",
   "execution_count": 96,
   "metadata": {},
   "outputs": [],
   "source": [
    "predictions1 = cat.predict(testX)"
   ]
  },
  {
   "cell_type": "code",
   "execution_count": 97,
   "metadata": {},
   "outputs": [],
   "source": [
    "submission = pd.DataFrame({'PassengerId': test_data.PassengerId, 'Survived': predictions1})\n",
    "submission.to_csv('submission3.csv', index=False)"
   ]
  },
  {
   "cell_type": "code",
   "execution_count": null,
   "metadata": {},
   "outputs": [],
   "source": []
  }
 ],
 "metadata": {
  "kernelspec": {
   "display_name": "Python 3",
   "language": "python",
   "name": "python3"
  },
  "language_info": {
   "codemirror_mode": {
    "name": "ipython",
    "version": 3
   },
   "file_extension": ".py",
   "mimetype": "text/x-python",
   "name": "python",
   "nbconvert_exporter": "python",
   "pygments_lexer": "ipython3",
   "version": "3.7.4"
  }
 },
 "nbformat": 4,
 "nbformat_minor": 4
}
